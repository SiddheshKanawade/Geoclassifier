{
 "cells": [
  {
   "cell_type": "code",
   "execution_count": 1,
   "metadata": {
    "_cell_guid": "b1076dfc-b9ad-4769-8c92-a6c4dae69d19",
    "_uuid": "8f2839f25d086af736a60e9eeb907d3b93b6e0e5",
    "execution": {
     "iopub.execute_input": "2022-08-06T09:34:22.743843Z",
     "iopub.status.busy": "2022-08-06T09:34:22.742680Z",
     "iopub.status.idle": "2022-08-06T09:34:22.754836Z",
     "shell.execute_reply": "2022-08-06T09:34:22.753120Z",
     "shell.execute_reply.started": "2022-08-06T09:34:22.743787Z"
    }
   },
   "outputs": [],
   "source": [
    "# This Python 3 environment comes with many helpful analytics libraries installed\n",
    "# It is defined by the kaggle/python Docker image: https://github.com/kaggle/docker-python\n",
    "# For example, here's several helpful packages to load\n",
    "\n",
    "import numpy as np # linear algebra\n",
    "import matplotlib.pyplot as plt\n",
    "import pandas as pd # data processing, CSV file I/O (e.g. pd.read_csv)\n",
    "import geopandas as gpd\n",
    "import seaborn as sns\n",
    "from sklearn import preprocessing\n",
    "from sklearn.preprocessing import LabelEncoder\n",
    "from sklearn.preprocessing import OneHotEncoder\n",
    "from sklearn.model_selection import RandomizedSearchCV\n",
    "from sklearn.datasets import load_iris\n",
    "from sklearn.neighbors import KNeighborsClassifier\n",
    "\n",
    "# Input data files are available in the read-only \"../input/\" directory\n",
    "# For example, running this (by clicking run or pressing Shift+Enter) will list all files under the input directory\n",
    "\n",
    "# import os\n",
    "# for dirname, _, filenames in os.walk('/kaggle/input'):\n",
    "#     for filename in filenames:\n",
    "#         print(os.path.join(dirname, filename))\n",
    "\n",
    "# You can write up to 20GB to the current directory (/kaggle/working/) that gets preserved as output when you create a version using \"Save & Run All\" \n",
    "# You can also write temporary files to /kaggle/temp/, but they won't be saved outside of the current session"
   ]
  },
  {
   "cell_type": "code",
   "execution_count": 2,
   "metadata": {
    "execution": {
     "iopub.execute_input": "2022-08-06T09:34:22.900304Z",
     "iopub.status.busy": "2022-08-06T09:34:22.899497Z",
     "iopub.status.idle": "2022-08-06T09:34:22.905479Z",
     "shell.execute_reply": "2022-08-06T09:34:22.904294Z",
     "shell.execute_reply.started": "2022-08-06T09:34:22.900242Z"
    }
   },
   "outputs": [],
   "source": [
    "import sys"
   ]
  },
  {
   "cell_type": "code",
   "execution_count": 3,
   "metadata": {
    "execution": {
     "iopub.execute_input": "2022-08-06T09:34:23.034536Z",
     "iopub.status.busy": "2022-08-06T09:34:23.033417Z",
     "iopub.status.idle": "2022-08-06T09:34:55.800622Z",
     "shell.execute_reply": "2022-08-06T09:34:55.798828Z",
     "shell.execute_reply.started": "2022-08-06T09:34:23.034501Z"
    }
   },
   "outputs": [
    {
     "name": "stdout",
     "output_type": "stream",
     "text": [
      "Requirement already satisfied: geopandas in ./jupyternb/lib/python3.8/site-packages (0.11.1)\n",
      "Requirement already satisfied: pandas>=1.0.0 in ./jupyternb/lib/python3.8/site-packages (from geopandas) (1.4.3)\n",
      "Requirement already satisfied: packaging in ./jupyternb/lib/python3.8/site-packages (from geopandas) (21.3)\n",
      "Requirement already satisfied: shapely<2,>=1.7 in ./jupyternb/lib/python3.8/site-packages (from geopandas) (1.8.2)\n",
      "Requirement already satisfied: fiona>=1.8 in ./jupyternb/lib/python3.8/site-packages (from geopandas) (1.8.21)\n",
      "Requirement already satisfied: pyproj>=2.6.1.post1 in ./jupyternb/lib/python3.8/site-packages (from geopandas) (3.3.1)\n",
      "Requirement already satisfied: munch in ./jupyternb/lib/python3.8/site-packages (from fiona>=1.8->geopandas) (2.5.0)\n",
      "Requirement already satisfied: setuptools in ./jupyternb/lib/python3.8/site-packages (from fiona>=1.8->geopandas) (63.2.0)\n",
      "Requirement already satisfied: click>=4.0 in ./jupyternb/lib/python3.8/site-packages (from fiona>=1.8->geopandas) (8.1.3)\n",
      "Requirement already satisfied: attrs>=17 in ./jupyternb/lib/python3.8/site-packages (from fiona>=1.8->geopandas) (22.1.0)\n",
      "Requirement already satisfied: six>=1.7 in ./jupyternb/lib/python3.8/site-packages (from fiona>=1.8->geopandas) (1.16.0)\n",
      "Requirement already satisfied: certifi in ./jupyternb/lib/python3.8/site-packages (from fiona>=1.8->geopandas) (2022.6.15)\n",
      "Requirement already satisfied: cligj>=0.5 in ./jupyternb/lib/python3.8/site-packages (from fiona>=1.8->geopandas) (0.7.2)\n",
      "Requirement already satisfied: click-plugins>=1.0 in ./jupyternb/lib/python3.8/site-packages (from fiona>=1.8->geopandas) (1.1.1)\n",
      "Requirement already satisfied: pytz>=2020.1 in ./jupyternb/lib/python3.8/site-packages (from pandas>=1.0.0->geopandas) (2022.1)\n",
      "Requirement already satisfied: numpy>=1.18.5 in ./jupyternb/lib/python3.8/site-packages (from pandas>=1.0.0->geopandas) (1.23.1)\n",
      "Requirement already satisfied: python-dateutil>=2.8.1 in ./jupyternb/lib/python3.8/site-packages (from pandas>=1.0.0->geopandas) (2.8.2)\n",
      "Requirement already satisfied: pyparsing!=3.0.5,>=2.0.2 in ./jupyternb/lib/python3.8/site-packages (from packaging->geopandas) (3.0.9)\n",
      "Requirement already satisfied: fiona in ./jupyternb/lib/python3.8/site-packages (1.8.21)\n",
      "Requirement already satisfied: munch in ./jupyternb/lib/python3.8/site-packages (from fiona) (2.5.0)\n",
      "Requirement already satisfied: setuptools in ./jupyternb/lib/python3.8/site-packages (from fiona) (63.2.0)\n",
      "Requirement already satisfied: attrs>=17 in ./jupyternb/lib/python3.8/site-packages (from fiona) (22.1.0)\n",
      "Requirement already satisfied: click-plugins>=1.0 in ./jupyternb/lib/python3.8/site-packages (from fiona) (1.1.1)\n",
      "Requirement already satisfied: certifi in ./jupyternb/lib/python3.8/site-packages (from fiona) (2022.6.15)\n",
      "Requirement already satisfied: cligj>=0.5 in ./jupyternb/lib/python3.8/site-packages (from fiona) (0.7.2)\n",
      "Requirement already satisfied: click>=4.0 in ./jupyternb/lib/python3.8/site-packages (from fiona) (8.1.3)\n",
      "Requirement already satisfied: six>=1.7 in ./jupyternb/lib/python3.8/site-packages (from fiona) (1.16.0)\n",
      "Requirement already satisfied: gradio in ./jupyternb/lib/python3.8/site-packages (3.1.3)\n",
      "Requirement already satisfied: pandas in ./jupyternb/lib/python3.8/site-packages (from gradio) (1.4.3)\n",
      "Requirement already satisfied: fastapi in ./jupyternb/lib/python3.8/site-packages (from gradio) (0.79.0)\n",
      "Requirement already satisfied: Jinja2 in ./jupyternb/lib/python3.8/site-packages (from gradio) (3.1.2)\n",
      "Requirement already satisfied: httpx in ./jupyternb/lib/python3.8/site-packages (from gradio) (0.23.0)\n",
      "Requirement already satisfied: markdown-it-py[linkify,plugins] in ./jupyternb/lib/python3.8/site-packages (from gradio) (2.1.0)\n",
      "Requirement already satisfied: numpy in ./jupyternb/lib/python3.8/site-packages (from gradio) (1.23.1)\n",
      "Requirement already satisfied: pydub in ./jupyternb/lib/python3.8/site-packages (from gradio) (0.25.1)\n",
      "Requirement already satisfied: matplotlib in ./jupyternb/lib/python3.8/site-packages (from gradio) (3.5.2)\n",
      "Requirement already satisfied: python-multipart in ./jupyternb/lib/python3.8/site-packages (from gradio) (0.0.5)\n",
      "Requirement already satisfied: paramiko in ./jupyternb/lib/python3.8/site-packages (from gradio) (2.11.0)\n",
      "Requirement already satisfied: pycryptodome in ./jupyternb/lib/python3.8/site-packages (from gradio) (3.15.0)\n",
      "Requirement already satisfied: h11<0.13,>=0.11 in ./jupyternb/lib/python3.8/site-packages (from gradio) (0.12.0)\n",
      "Requirement already satisfied: requests in ./jupyternb/lib/python3.8/site-packages (from gradio) (2.28.1)\n",
      "Requirement already satisfied: pillow in ./jupyternb/lib/python3.8/site-packages (from gradio) (9.2.0)\n",
      "Requirement already satisfied: orjson in ./jupyternb/lib/python3.8/site-packages (from gradio) (3.7.11)\n",
      "Requirement already satisfied: fsspec in ./jupyternb/lib/python3.8/site-packages (from gradio) (2022.7.1)\n",
      "Requirement already satisfied: aiohttp in ./jupyternb/lib/python3.8/site-packages (from gradio) (3.8.1)\n",
      "Requirement already satisfied: analytics-python in ./jupyternb/lib/python3.8/site-packages (from gradio) (1.4.0)\n",
      "Requirement already satisfied: pydantic in ./jupyternb/lib/python3.8/site-packages (from gradio) (1.9.1)\n",
      "Requirement already satisfied: uvicorn in ./jupyternb/lib/python3.8/site-packages (from gradio) (0.18.2)\n",
      "Requirement already satisfied: ffmpy in ./jupyternb/lib/python3.8/site-packages (from gradio) (0.3.0)\n",
      "Requirement already satisfied: attrs>=17.3.0 in ./jupyternb/lib/python3.8/site-packages (from aiohttp->gradio) (22.1.0)\n",
      "Requirement already satisfied: charset-normalizer<3.0,>=2.0 in ./jupyternb/lib/python3.8/site-packages (from aiohttp->gradio) (2.1.0)\n",
      "Requirement already satisfied: aiosignal>=1.1.2 in ./jupyternb/lib/python3.8/site-packages (from aiohttp->gradio) (1.2.0)\n",
      "Requirement already satisfied: async-timeout<5.0,>=4.0.0a3 in ./jupyternb/lib/python3.8/site-packages (from aiohttp->gradio) (4.0.2)\n",
      "Requirement already satisfied: multidict<7.0,>=4.5 in ./jupyternb/lib/python3.8/site-packages (from aiohttp->gradio) (6.0.2)\n",
      "Requirement already satisfied: frozenlist>=1.1.1 in ./jupyternb/lib/python3.8/site-packages (from aiohttp->gradio) (1.3.1)\n",
      "Requirement already satisfied: yarl<2.0,>=1.0 in ./jupyternb/lib/python3.8/site-packages (from aiohttp->gradio) (1.8.1)\n",
      "Requirement already satisfied: six>=1.5 in ./jupyternb/lib/python3.8/site-packages (from analytics-python->gradio) (1.16.0)\n",
      "Requirement already satisfied: backoff==1.10.0 in ./jupyternb/lib/python3.8/site-packages (from analytics-python->gradio) (1.10.0)\n",
      "Requirement already satisfied: python-dateutil>2.1 in ./jupyternb/lib/python3.8/site-packages (from analytics-python->gradio) (2.8.2)\n",
      "Requirement already satisfied: monotonic>=1.5 in ./jupyternb/lib/python3.8/site-packages (from analytics-python->gradio) (1.6)\n",
      "Requirement already satisfied: idna<4,>=2.5 in ./jupyternb/lib/python3.8/site-packages (from requests->gradio) (3.3)\n",
      "Requirement already satisfied: urllib3<1.27,>=1.21.1 in ./jupyternb/lib/python3.8/site-packages (from requests->gradio) (1.26.11)\n",
      "Requirement already satisfied: certifi>=2017.4.17 in ./jupyternb/lib/python3.8/site-packages (from requests->gradio) (2022.6.15)\n",
      "Requirement already satisfied: starlette==0.19.1 in ./jupyternb/lib/python3.8/site-packages (from fastapi->gradio) (0.19.1)\n",
      "Requirement already satisfied: anyio<5,>=3.4.0 in ./jupyternb/lib/python3.8/site-packages (from starlette==0.19.1->fastapi->gradio) (3.6.1)\n",
      "Requirement already satisfied: typing-extensions>=3.10.0 in ./jupyternb/lib/python3.8/site-packages (from starlette==0.19.1->fastapi->gradio) (4.3.0)\n",
      "Requirement already satisfied: sniffio in ./jupyternb/lib/python3.8/site-packages (from httpx->gradio) (1.2.0)\n",
      "Requirement already satisfied: httpcore<0.16.0,>=0.15.0 in ./jupyternb/lib/python3.8/site-packages (from httpx->gradio) (0.15.0)\n",
      "Requirement already satisfied: rfc3986[idna2008]<2,>=1.3 in ./jupyternb/lib/python3.8/site-packages (from httpx->gradio) (1.5.0)\n",
      "Requirement already satisfied: MarkupSafe>=2.0 in ./jupyternb/lib/python3.8/site-packages (from Jinja2->gradio) (2.1.1)\n",
      "Requirement already satisfied: mdurl~=0.1 in ./jupyternb/lib/python3.8/site-packages (from markdown-it-py[linkify,plugins]->gradio) (0.1.1)\n",
      "Requirement already satisfied: mdit-py-plugins in ./jupyternb/lib/python3.8/site-packages (from markdown-it-py[linkify,plugins]->gradio) (0.3.0)\n",
      "Requirement already satisfied: linkify-it-py~=1.0 in ./jupyternb/lib/python3.8/site-packages (from markdown-it-py[linkify,plugins]->gradio) (1.0.3)\n",
      "Requirement already satisfied: kiwisolver>=1.0.1 in ./jupyternb/lib/python3.8/site-packages (from matplotlib->gradio) (1.4.4)\n",
      "Requirement already satisfied: cycler>=0.10 in ./jupyternb/lib/python3.8/site-packages (from matplotlib->gradio) (0.11.0)\n",
      "Requirement already satisfied: packaging>=20.0 in ./jupyternb/lib/python3.8/site-packages (from matplotlib->gradio) (21.3)\n",
      "Requirement already satisfied: pyparsing>=2.2.1 in ./jupyternb/lib/python3.8/site-packages (from matplotlib->gradio) (3.0.9)\n",
      "Requirement already satisfied: fonttools>=4.22.0 in ./jupyternb/lib/python3.8/site-packages (from matplotlib->gradio) (4.34.4)\n",
      "Requirement already satisfied: pytz>=2020.1 in ./jupyternb/lib/python3.8/site-packages (from pandas->gradio) (2022.1)\n",
      "Requirement already satisfied: pynacl>=1.0.1 in ./jupyternb/lib/python3.8/site-packages (from paramiko->gradio) (1.5.0)\n",
      "Requirement already satisfied: bcrypt>=3.1.3 in ./jupyternb/lib/python3.8/site-packages (from paramiko->gradio) (3.2.2)\n",
      "Requirement already satisfied: cryptography>=2.5 in ./jupyternb/lib/python3.8/site-packages (from paramiko->gradio) (37.0.4)\n",
      "Requirement already satisfied: click>=7.0 in ./jupyternb/lib/python3.8/site-packages (from uvicorn->gradio) (8.1.3)\n",
      "Requirement already satisfied: cffi>=1.1 in ./jupyternb/lib/python3.8/site-packages (from bcrypt>=3.1.3->paramiko->gradio) (1.15.1)\n",
      "Requirement already satisfied: uc-micro-py in ./jupyternb/lib/python3.8/site-packages (from linkify-it-py~=1.0->markdown-it-py[linkify,plugins]->gradio) (1.0.1)\n",
      "Requirement already satisfied: pycparser in ./jupyternb/lib/python3.8/site-packages (from cffi>=1.1->bcrypt>=3.1.3->paramiko->gradio) (2.21)\n"
     ]
    }
   ],
   "source": [
    "!pip install geopandas\n",
    "!pip install fiona\n",
    "!pip install gradio"
   ]
  },
  {
   "cell_type": "code",
   "execution_count": 4,
   "metadata": {
    "execution": {
     "iopub.execute_input": "2022-08-06T09:37:58.164158Z",
     "iopub.status.busy": "2022-08-06T09:37:58.163820Z",
     "iopub.status.idle": "2022-08-06T09:37:58.170391Z",
     "shell.execute_reply": "2022-08-06T09:37:58.169357Z",
     "shell.execute_reply.started": "2022-08-06T09:37:58.164124Z"
    }
   },
   "outputs": [],
   "source": [
    "le = preprocessing.LabelEncoder()\n",
    "change_type_map = {'Demolition': 0, 'Road': 1, 'Residential': 2, 'Commercial': 3, 'Industrial': 4,\n",
    "       'Mega Projects': 5}\n",
    "\n"
   ]
  },
  {
   "cell_type": "code",
   "execution_count": 18,
   "metadata": {
    "execution": {
     "iopub.execute_input": "2022-08-06T09:37:58.172191Z",
     "iopub.status.busy": "2022-08-06T09:37:58.171854Z",
     "iopub.status.idle": "2022-08-06T09:39:00.872584Z",
     "shell.execute_reply": "2022-08-06T09:39:00.871052Z",
     "shell.execute_reply.started": "2022-08-06T09:37:58.172159Z"
    }
   },
   "outputs": [],
   "source": [
    "df = gpd.read_file('/home/siddhesh/Desktop/Siddhesh/granule/kaggle task/train.geojson')"
   ]
  },
  {
   "cell_type": "code",
   "execution_count": 19,
   "metadata": {
    "execution": {
     "iopub.execute_input": "2022-08-06T09:39:00.877804Z",
     "iopub.status.busy": "2022-08-06T09:39:00.877227Z",
     "iopub.status.idle": "2022-08-06T09:39:00.917983Z",
     "shell.execute_reply": "2022-08-06T09:39:00.916665Z",
     "shell.execute_reply.started": "2022-08-06T09:39:00.877754Z"
    }
   },
   "outputs": [
    {
     "data": {
      "text/plain": [
       "180"
      ]
     },
     "execution_count": 19,
     "metadata": {},
     "output_type": "execute_result"
    }
   ],
   "source": [
    "len(set(df['geography_types']))"
   ]
  },
  {
   "cell_type": "code",
   "execution_count": 20,
   "metadata": {
    "execution": {
     "iopub.execute_input": "2022-08-06T09:39:00.920664Z",
     "iopub.status.busy": "2022-08-06T09:39:00.919816Z",
     "iopub.status.idle": "2022-08-06T09:39:23.096702Z",
     "shell.execute_reply": "2022-08-06T09:39:23.095141Z",
     "shell.execute_reply.started": "2022-08-06T09:39:00.920615Z"
    }
   },
   "outputs": [],
   "source": [
    "df_test = gpd.read_file('/home/siddhesh/Desktop/Siddhesh/granule/kaggle task/test.geojson')"
   ]
  },
  {
   "cell_type": "code",
   "execution_count": 21,
   "metadata": {
    "execution": {
     "iopub.execute_input": "2022-08-06T09:39:23.099146Z",
     "iopub.status.busy": "2022-08-06T09:39:23.098808Z",
     "iopub.status.idle": "2022-08-06T09:39:23.136510Z",
     "shell.execute_reply": "2022-08-06T09:39:23.135531Z",
     "shell.execute_reply.started": "2022-08-06T09:39:23.099113Z"
    }
   },
   "outputs": [
    {
     "data": {
      "text/html": [
       "<div>\n",
       "<style scoped>\n",
       "    .dataframe tbody tr th:only-of-type {\n",
       "        vertical-align: middle;\n",
       "    }\n",
       "\n",
       "    .dataframe tbody tr th {\n",
       "        vertical-align: top;\n",
       "    }\n",
       "\n",
       "    .dataframe thead th {\n",
       "        text-align: right;\n",
       "    }\n",
       "</style>\n",
       "<table border=\"1\" class=\"dataframe\">\n",
       "  <thead>\n",
       "    <tr style=\"text-align: right;\">\n",
       "      <th></th>\n",
       "      <th>index</th>\n",
       "      <th>change_status_date1</th>\n",
       "      <th>change_status_date2</th>\n",
       "      <th>change_status_date3</th>\n",
       "      <th>change_status_date4</th>\n",
       "      <th>change_status_date5</th>\n",
       "      <th>date1</th>\n",
       "      <th>date2</th>\n",
       "      <th>date3</th>\n",
       "      <th>date4</th>\n",
       "      <th>date5</th>\n",
       "      <th>urban_types</th>\n",
       "      <th>geography_types</th>\n",
       "      <th>geometry</th>\n",
       "    </tr>\n",
       "  </thead>\n",
       "  <tbody>\n",
       "    <tr>\n",
       "      <th>0</th>\n",
       "      <td>0</td>\n",
       "      <td>Prior Construction</td>\n",
       "      <td>Prior Construction</td>\n",
       "      <td>Land Cleared</td>\n",
       "      <td>Land Cleared</td>\n",
       "      <td>Land Cleared</td>\n",
       "      <td>20-11-2014</td>\n",
       "      <td>29-11-2015</td>\n",
       "      <td>16-05-2017</td>\n",
       "      <td>27-10-2018</td>\n",
       "      <td>19-03-2020</td>\n",
       "      <td>None</td>\n",
       "      <td>Barren Land</td>\n",
       "      <td>POLYGON ((103.97404 36.01415, 103.97448 36.014...</td>\n",
       "    </tr>\n",
       "    <tr>\n",
       "      <th>1</th>\n",
       "      <td>1</td>\n",
       "      <td>Prior Construction</td>\n",
       "      <td>Prior Construction</td>\n",
       "      <td>Land Cleared</td>\n",
       "      <td>Land Cleared</td>\n",
       "      <td>Land Cleared</td>\n",
       "      <td>20-11-2014</td>\n",
       "      <td>29-11-2015</td>\n",
       "      <td>16-05-2017</td>\n",
       "      <td>27-10-2018</td>\n",
       "      <td>19-03-2020</td>\n",
       "      <td>None</td>\n",
       "      <td>Barren Land</td>\n",
       "      <td>POLYGON ((103.97465 36.01404, 103.97460 36.013...</td>\n",
       "    </tr>\n",
       "    <tr>\n",
       "      <th>2</th>\n",
       "      <td>2</td>\n",
       "      <td>Prior Construction</td>\n",
       "      <td>Prior Construction</td>\n",
       "      <td>Land Cleared</td>\n",
       "      <td>Land Cleared</td>\n",
       "      <td>Land Cleared</td>\n",
       "      <td>20-11-2014</td>\n",
       "      <td>29-11-2015</td>\n",
       "      <td>16-05-2017</td>\n",
       "      <td>27-10-2018</td>\n",
       "      <td>19-03-2020</td>\n",
       "      <td>None</td>\n",
       "      <td>Barren Land</td>\n",
       "      <td>POLYGON ((103.97492 36.01409, 103.97490 36.014...</td>\n",
       "    </tr>\n",
       "    <tr>\n",
       "      <th>3</th>\n",
       "      <td>3</td>\n",
       "      <td>Prior Construction</td>\n",
       "      <td>Prior Construction</td>\n",
       "      <td>Land Cleared</td>\n",
       "      <td>Construction Done</td>\n",
       "      <td>Construction Done</td>\n",
       "      <td>20-11-2014</td>\n",
       "      <td>29-11-2015</td>\n",
       "      <td>16-05-2017</td>\n",
       "      <td>27-10-2018</td>\n",
       "      <td>19-03-2020</td>\n",
       "      <td>None</td>\n",
       "      <td>Barren Land</td>\n",
       "      <td>POLYGON ((103.97448 36.01374, 103.97442 36.013...</td>\n",
       "    </tr>\n",
       "    <tr>\n",
       "      <th>4</th>\n",
       "      <td>4</td>\n",
       "      <td>Land Cleared</td>\n",
       "      <td>Land Cleared</td>\n",
       "      <td>Land Cleared</td>\n",
       "      <td>Land Cleared</td>\n",
       "      <td>Land Cleared</td>\n",
       "      <td>20-11-2014</td>\n",
       "      <td>29-11-2015</td>\n",
       "      <td>16-05-2017</td>\n",
       "      <td>27-10-2018</td>\n",
       "      <td>19-03-2020</td>\n",
       "      <td>None</td>\n",
       "      <td>Barren Land</td>\n",
       "      <td>POLYGON ((103.97462 36.01347, 103.97482 36.013...</td>\n",
       "    </tr>\n",
       "    <tr>\n",
       "      <th>...</th>\n",
       "      <td>...</td>\n",
       "      <td>...</td>\n",
       "      <td>...</td>\n",
       "      <td>...</td>\n",
       "      <td>...</td>\n",
       "      <td>...</td>\n",
       "      <td>...</td>\n",
       "      <td>...</td>\n",
       "      <td>...</td>\n",
       "      <td>...</td>\n",
       "      <td>...</td>\n",
       "      <td>...</td>\n",
       "      <td>...</td>\n",
       "      <td>...</td>\n",
       "    </tr>\n",
       "    <tr>\n",
       "      <th>121699</th>\n",
       "      <td>121699</td>\n",
       "      <td>Land Cleared</td>\n",
       "      <td>Land Cleared</td>\n",
       "      <td>Construction Done</td>\n",
       "      <td>Construction Done</td>\n",
       "      <td>Construction Done</td>\n",
       "      <td>30-07-2014</td>\n",
       "      <td>09-02-2015</td>\n",
       "      <td>02-03-2017</td>\n",
       "      <td>19-08-2018</td>\n",
       "      <td>22-01-2019</td>\n",
       "      <td>Sparse Urban</td>\n",
       "      <td>Sparse Forest,Farms,Lakes</td>\n",
       "      <td>POLYGON ((113.21206 29.37929, 113.21213 29.379...</td>\n",
       "    </tr>\n",
       "    <tr>\n",
       "      <th>121700</th>\n",
       "      <td>121700</td>\n",
       "      <td>Greenland</td>\n",
       "      <td>Construction Done</td>\n",
       "      <td>Construction Done</td>\n",
       "      <td>Construction Done</td>\n",
       "      <td>Construction Done</td>\n",
       "      <td>30-07-2014</td>\n",
       "      <td>09-02-2015</td>\n",
       "      <td>02-03-2017</td>\n",
       "      <td>19-08-2018</td>\n",
       "      <td>22-01-2019</td>\n",
       "      <td>Sparse Urban</td>\n",
       "      <td>Sparse Forest,Grass Land,Lakes</td>\n",
       "      <td>POLYGON ((113.21203 29.37706, 113.21212 29.376...</td>\n",
       "    </tr>\n",
       "    <tr>\n",
       "      <th>121701</th>\n",
       "      <td>121701</td>\n",
       "      <td>Greenland</td>\n",
       "      <td>Greenland</td>\n",
       "      <td>Greenland</td>\n",
       "      <td>Construction Midway</td>\n",
       "      <td>Construction Done</td>\n",
       "      <td>30-07-2014</td>\n",
       "      <td>09-02-2015</td>\n",
       "      <td>02-03-2017</td>\n",
       "      <td>19-08-2018</td>\n",
       "      <td>22-01-2019</td>\n",
       "      <td>Sparse Urban</td>\n",
       "      <td>Sparse Forest,Grass Land,Lakes</td>\n",
       "      <td>POLYGON ((113.21187 29.37609, 113.21188 29.375...</td>\n",
       "    </tr>\n",
       "    <tr>\n",
       "      <th>121702</th>\n",
       "      <td>121702</td>\n",
       "      <td>Land Cleared</td>\n",
       "      <td>Land Cleared</td>\n",
       "      <td>Construction Midway</td>\n",
       "      <td>Construction Done</td>\n",
       "      <td>Construction Done</td>\n",
       "      <td>30-07-2014</td>\n",
       "      <td>09-02-2015</td>\n",
       "      <td>02-03-2017</td>\n",
       "      <td>19-08-2018</td>\n",
       "      <td>22-01-2019</td>\n",
       "      <td>Sparse Urban</td>\n",
       "      <td>Sparse Forest,Dense Forest</td>\n",
       "      <td>POLYGON ((113.21158 29.37573, 113.21162 29.375...</td>\n",
       "    </tr>\n",
       "    <tr>\n",
       "      <th>121703</th>\n",
       "      <td>121703</td>\n",
       "      <td>Greenland</td>\n",
       "      <td>Land Cleared</td>\n",
       "      <td>Construction Done</td>\n",
       "      <td>Construction Done</td>\n",
       "      <td>Construction Done</td>\n",
       "      <td>30-07-2014</td>\n",
       "      <td>09-02-2015</td>\n",
       "      <td>02-03-2017</td>\n",
       "      <td>19-08-2018</td>\n",
       "      <td>22-01-2019</td>\n",
       "      <td>Sparse Urban</td>\n",
       "      <td>Sparse Forest,Dense Forest</td>\n",
       "      <td>POLYGON ((113.21204 29.37516, 113.21195 29.375...</td>\n",
       "    </tr>\n",
       "  </tbody>\n",
       "</table>\n",
       "<p>121704 rows × 14 columns</p>\n",
       "</div>"
      ],
      "text/plain": [
       "         index change_status_date1 change_status_date2  change_status_date3  \\\n",
       "0            0  Prior Construction  Prior Construction         Land Cleared   \n",
       "1            1  Prior Construction  Prior Construction         Land Cleared   \n",
       "2            2  Prior Construction  Prior Construction         Land Cleared   \n",
       "3            3  Prior Construction  Prior Construction         Land Cleared   \n",
       "4            4        Land Cleared        Land Cleared         Land Cleared   \n",
       "...        ...                 ...                 ...                  ...   \n",
       "121699  121699        Land Cleared        Land Cleared    Construction Done   \n",
       "121700  121700           Greenland   Construction Done    Construction Done   \n",
       "121701  121701           Greenland           Greenland            Greenland   \n",
       "121702  121702        Land Cleared        Land Cleared  Construction Midway   \n",
       "121703  121703           Greenland        Land Cleared    Construction Done   \n",
       "\n",
       "        change_status_date4 change_status_date5       date1       date2  \\\n",
       "0              Land Cleared        Land Cleared  20-11-2014  29-11-2015   \n",
       "1              Land Cleared        Land Cleared  20-11-2014  29-11-2015   \n",
       "2              Land Cleared        Land Cleared  20-11-2014  29-11-2015   \n",
       "3         Construction Done   Construction Done  20-11-2014  29-11-2015   \n",
       "4              Land Cleared        Land Cleared  20-11-2014  29-11-2015   \n",
       "...                     ...                 ...         ...         ...   \n",
       "121699    Construction Done   Construction Done  30-07-2014  09-02-2015   \n",
       "121700    Construction Done   Construction Done  30-07-2014  09-02-2015   \n",
       "121701  Construction Midway   Construction Done  30-07-2014  09-02-2015   \n",
       "121702    Construction Done   Construction Done  30-07-2014  09-02-2015   \n",
       "121703    Construction Done   Construction Done  30-07-2014  09-02-2015   \n",
       "\n",
       "             date3       date4       date5   urban_types  \\\n",
       "0       16-05-2017  27-10-2018  19-03-2020          None   \n",
       "1       16-05-2017  27-10-2018  19-03-2020          None   \n",
       "2       16-05-2017  27-10-2018  19-03-2020          None   \n",
       "3       16-05-2017  27-10-2018  19-03-2020          None   \n",
       "4       16-05-2017  27-10-2018  19-03-2020          None   \n",
       "...            ...         ...         ...           ...   \n",
       "121699  02-03-2017  19-08-2018  22-01-2019  Sparse Urban   \n",
       "121700  02-03-2017  19-08-2018  22-01-2019  Sparse Urban   \n",
       "121701  02-03-2017  19-08-2018  22-01-2019  Sparse Urban   \n",
       "121702  02-03-2017  19-08-2018  22-01-2019  Sparse Urban   \n",
       "121703  02-03-2017  19-08-2018  22-01-2019  Sparse Urban   \n",
       "\n",
       "                       geography_types  \\\n",
       "0                          Barren Land   \n",
       "1                          Barren Land   \n",
       "2                          Barren Land   \n",
       "3                          Barren Land   \n",
       "4                          Barren Land   \n",
       "...                                ...   \n",
       "121699       Sparse Forest,Farms,Lakes   \n",
       "121700  Sparse Forest,Grass Land,Lakes   \n",
       "121701  Sparse Forest,Grass Land,Lakes   \n",
       "121702      Sparse Forest,Dense Forest   \n",
       "121703      Sparse Forest,Dense Forest   \n",
       "\n",
       "                                                 geometry  \n",
       "0       POLYGON ((103.97404 36.01415, 103.97448 36.014...  \n",
       "1       POLYGON ((103.97465 36.01404, 103.97460 36.013...  \n",
       "2       POLYGON ((103.97492 36.01409, 103.97490 36.014...  \n",
       "3       POLYGON ((103.97448 36.01374, 103.97442 36.013...  \n",
       "4       POLYGON ((103.97462 36.01347, 103.97482 36.013...  \n",
       "...                                                   ...  \n",
       "121699  POLYGON ((113.21206 29.37929, 113.21213 29.379...  \n",
       "121700  POLYGON ((113.21203 29.37706, 113.21212 29.376...  \n",
       "121701  POLYGON ((113.21187 29.37609, 113.21188 29.375...  \n",
       "121702  POLYGON ((113.21158 29.37573, 113.21162 29.375...  \n",
       "121703  POLYGON ((113.21204 29.37516, 113.21195 29.375...  \n",
       "\n",
       "[121704 rows x 14 columns]"
      ]
     },
     "execution_count": 21,
     "metadata": {},
     "output_type": "execute_result"
    }
   ],
   "source": [
    "df_test"
   ]
  },
  {
   "cell_type": "code",
   "execution_count": 22,
   "metadata": {
    "execution": {
     "iopub.execute_input": "2022-08-06T09:39:23.138666Z",
     "iopub.status.busy": "2022-08-06T09:39:23.137863Z",
     "iopub.status.idle": "2022-08-06T09:39:23.148861Z",
     "shell.execute_reply": "2022-08-06T09:39:23.147583Z",
     "shell.execute_reply.started": "2022-08-06T09:39:23.138620Z"
    }
   },
   "outputs": [
    {
     "data": {
      "text/plain": [
       "0           River,Sparse Forest,Grass Land\n",
       "1                 Sparse Forest,Grass Land\n",
       "2                 Sparse Forest,Grass Land\n",
       "3           River,Sparse Forest,Grass Land\n",
       "4           River,Sparse Forest,Grass Land\n",
       "                        ...               \n",
       "310001     Coastal,Dense Forest,Grass Land\n",
       "310002          Sparse Forest,Dense Forest\n",
       "310003          Sparse Forest,Dense Forest\n",
       "310004      River,Sparse Forest,Grass Land\n",
       "310005    Coastal,Sparse Forest,Grass Land\n",
       "Name: geography_types, Length: 310006, dtype: object"
      ]
     },
     "execution_count": 22,
     "metadata": {},
     "output_type": "execute_result"
    }
   ],
   "source": [
    "df['geography_types']"
   ]
  },
  {
   "cell_type": "code",
   "execution_count": 23,
   "metadata": {
    "execution": {
     "iopub.execute_input": "2022-08-06T09:39:23.154538Z",
     "iopub.status.busy": "2022-08-06T09:39:23.153726Z",
     "iopub.status.idle": "2022-08-06T09:39:23.159421Z",
     "shell.execute_reply": "2022-08-06T09:39:23.158476Z",
     "shell.execute_reply.started": "2022-08-06T09:39:23.154505Z"
    }
   },
   "outputs": [],
   "source": [
    "# df_test = gpd.read_file('../input/granular-ai-test-data/test.geojson')"
   ]
  },
  {
   "cell_type": "code",
   "execution_count": 24,
   "metadata": {
    "execution": {
     "iopub.execute_input": "2022-08-06T09:39:23.162618Z",
     "iopub.status.busy": "2022-08-06T09:39:23.161516Z",
     "iopub.status.idle": "2022-08-06T09:39:23.169975Z",
     "shell.execute_reply": "2022-08-06T09:39:23.169018Z",
     "shell.execute_reply.started": "2022-08-06T09:39:23.162571Z"
    }
   },
   "outputs": [],
   "source": [
    "# df_test"
   ]
  },
  {
   "cell_type": "code",
   "execution_count": 25,
   "metadata": {
    "execution": {
     "iopub.execute_input": "2022-08-06T10:09:52.054276Z",
     "iopub.status.busy": "2022-08-06T10:09:52.053836Z",
     "iopub.status.idle": "2022-08-06T10:09:52.065191Z",
     "shell.execute_reply": "2022-08-06T10:09:52.063650Z",
     "shell.execute_reply.started": "2022-08-06T10:09:52.054226Z"
    }
   },
   "outputs": [
    {
     "data": {
      "text/plain": [
       "0          Commercial\n",
       "1          Commercial\n",
       "2          Commercial\n",
       "3          Commercial\n",
       "4          Commercial\n",
       "             ...     \n",
       "310001    Residential\n",
       "310002    Residential\n",
       "310003     Commercial\n",
       "310004     Commercial\n",
       "310005     Commercial\n",
       "Name: change_type, Length: 310006, dtype: object"
      ]
     },
     "execution_count": 25,
     "metadata": {},
     "output_type": "execute_result"
    }
   ],
   "source": [
    "df['change_type']"
   ]
  },
  {
   "cell_type": "code",
   "execution_count": 26,
   "metadata": {
    "execution": {
     "iopub.execute_input": "2022-08-06T10:09:53.174845Z",
     "iopub.status.busy": "2022-08-06T10:09:53.174098Z",
     "iopub.status.idle": "2022-08-06T10:09:53.181196Z",
     "shell.execute_reply": "2022-08-06T10:09:53.179424Z",
     "shell.execute_reply.started": "2022-08-06T10:09:53.174808Z"
    }
   },
   "outputs": [],
   "source": [
    "# set(df_test['geography_types'])"
   ]
  },
  {
   "cell_type": "code",
   "execution_count": 27,
   "metadata": {
    "execution": {
     "iopub.execute_input": "2022-08-06T10:09:53.803719Z",
     "iopub.status.busy": "2022-08-06T10:09:53.802911Z",
     "iopub.status.idle": "2022-08-06T10:09:55.073922Z",
     "shell.execute_reply": "2022-08-06T10:09:55.072859Z",
     "shell.execute_reply.started": "2022-08-06T10:09:53.803669Z"
    }
   },
   "outputs": [],
   "source": [
    "df_geography = df['geography_types']\n",
    "\n",
    "df_geography_single = []\n",
    "\n",
    "#df_geography[0]\n",
    "for i in range(len(df_geography)):\n",
    "    df_geography_single.append(df_geography[i].split(\",\", 1)[0])\n",
    "\n",
    "# x = txt.split(\", \", 1)[0]\n"
   ]
  },
  {
   "cell_type": "code",
   "execution_count": 28,
   "metadata": {
    "execution": {
     "iopub.execute_input": "2022-08-06T10:09:55.076613Z",
     "iopub.status.busy": "2022-08-06T10:09:55.075977Z",
     "iopub.status.idle": "2022-08-06T10:09:56.360486Z",
     "shell.execute_reply": "2022-08-06T10:09:56.358977Z",
     "shell.execute_reply.started": "2022-08-06T10:09:55.076578Z"
    }
   },
   "outputs": [],
   "source": [
    "df_urban = df['urban_types']\n",
    "\n",
    "df_urban_single = []\n",
    "for i in range(len(df_urban)):\n",
    "    df_urban_single.append(df_urban[i].split(\",\", 1)[0])"
   ]
  },
  {
   "cell_type": "code",
   "execution_count": 29,
   "metadata": {
    "execution": {
     "iopub.execute_input": "2022-08-06T10:09:56.741031Z",
     "iopub.status.busy": "2022-08-06T10:09:56.740600Z",
     "iopub.status.idle": "2022-08-06T10:09:56.790956Z",
     "shell.execute_reply": "2022-08-06T10:09:56.789585Z",
     "shell.execute_reply.started": "2022-08-06T10:09:56.740998Z"
    }
   },
   "outputs": [
    {
     "data": {
      "text/plain": [
       "{'Barren Land',\n",
       " 'Coastal',\n",
       " 'Dense Forest',\n",
       " 'Desert',\n",
       " 'Farms',\n",
       " 'Grass Land',\n",
       " 'Hills',\n",
       " 'Lakes',\n",
       " 'None',\n",
       " 'River',\n",
       " 'Snow',\n",
       " 'Sparse Forest'}"
      ]
     },
     "execution_count": 29,
     "metadata": {},
     "output_type": "execute_result"
    }
   ],
   "source": [
    "set(df_geography_single)"
   ]
  },
  {
   "cell_type": "code",
   "execution_count": 30,
   "metadata": {
    "execution": {
     "iopub.execute_input": "2022-08-06T10:09:57.958437Z",
     "iopub.status.busy": "2022-08-06T10:09:57.956978Z",
     "iopub.status.idle": "2022-08-06T10:09:58.010941Z",
     "shell.execute_reply": "2022-08-06T10:09:58.009463Z",
     "shell.execute_reply.started": "2022-08-06T10:09:57.958396Z"
    }
   },
   "outputs": [
    {
     "data": {
      "text/plain": [
       "{'Dense Urban', 'Industrial', 'None', 'Rural', 'Sparse Urban', 'Urban Slum'}"
      ]
     },
     "execution_count": 30,
     "metadata": {},
     "output_type": "execute_result"
    }
   ],
   "source": [
    "set(df_urban_single)"
   ]
  },
  {
   "cell_type": "code",
   "execution_count": 31,
   "metadata": {
    "execution": {
     "iopub.execute_input": "2022-08-06T10:09:59.662640Z",
     "iopub.status.busy": "2022-08-06T10:09:59.661905Z",
     "iopub.status.idle": "2022-08-06T10:09:59.668644Z",
     "shell.execute_reply": "2022-08-06T10:09:59.666942Z",
     "shell.execute_reply.started": "2022-08-06T10:09:59.662604Z"
    }
   },
   "outputs": [],
   "source": [
    "df_train = df"
   ]
  },
  {
   "cell_type": "code",
   "execution_count": 32,
   "metadata": {
    "execution": {
     "iopub.execute_input": "2022-08-06T10:44:51.005659Z",
     "iopub.status.busy": "2022-08-06T10:44:51.005206Z",
     "iopub.status.idle": "2022-08-06T10:44:51.185235Z",
     "shell.execute_reply": "2022-08-06T10:44:51.183815Z",
     "shell.execute_reply.started": "2022-08-06T10:44:51.005624Z"
    }
   },
   "outputs": [],
   "source": [
    "df_train['geography_types'] = df_geography_single\n",
    "df_train['urban_types'] = df_urban_single"
   ]
  },
  {
   "cell_type": "code",
   "execution_count": 33,
   "metadata": {
    "execution": {
     "iopub.execute_input": "2022-08-06T10:44:52.149035Z",
     "iopub.status.busy": "2022-08-06T10:44:52.148618Z",
     "iopub.status.idle": "2022-08-06T10:44:52.189011Z",
     "shell.execute_reply": "2022-08-06T10:44:52.187971Z",
     "shell.execute_reply.started": "2022-08-06T10:44:52.149002Z"
    }
   },
   "outputs": [
    {
     "data": {
      "text/html": [
       "<div>\n",
       "<style scoped>\n",
       "    .dataframe tbody tr th:only-of-type {\n",
       "        vertical-align: middle;\n",
       "    }\n",
       "\n",
       "    .dataframe tbody tr th {\n",
       "        vertical-align: top;\n",
       "    }\n",
       "\n",
       "    .dataframe thead th {\n",
       "        text-align: right;\n",
       "    }\n",
       "</style>\n",
       "<table border=\"1\" class=\"dataframe\">\n",
       "  <thead>\n",
       "    <tr style=\"text-align: right;\">\n",
       "      <th></th>\n",
       "      <th>index</th>\n",
       "      <th>change_type</th>\n",
       "      <th>change_status_date1</th>\n",
       "      <th>change_status_date2</th>\n",
       "      <th>change_status_date3</th>\n",
       "      <th>change_status_date4</th>\n",
       "      <th>change_status_date5</th>\n",
       "      <th>date1</th>\n",
       "      <th>date2</th>\n",
       "      <th>date3</th>\n",
       "      <th>date4</th>\n",
       "      <th>date5</th>\n",
       "      <th>urban_types</th>\n",
       "      <th>geography_types</th>\n",
       "      <th>geometry</th>\n",
       "    </tr>\n",
       "  </thead>\n",
       "  <tbody>\n",
       "    <tr>\n",
       "      <th>0</th>\n",
       "      <td>0</td>\n",
       "      <td>Commercial</td>\n",
       "      <td>Land Cleared</td>\n",
       "      <td>Construction Midway</td>\n",
       "      <td>Construction Done</td>\n",
       "      <td>Construction Done</td>\n",
       "      <td>Construction Done</td>\n",
       "      <td>29-05-2014</td>\n",
       "      <td>13-09-2015</td>\n",
       "      <td>25-02-2017</td>\n",
       "      <td>10-10-2018</td>\n",
       "      <td>19-05-2020</td>\n",
       "      <td>Industrial</td>\n",
       "      <td>River</td>\n",
       "      <td>POLYGON ((116.97563 38.89002, 116.97590 38.890...</td>\n",
       "    </tr>\n",
       "    <tr>\n",
       "      <th>1</th>\n",
       "      <td>1</td>\n",
       "      <td>Commercial</td>\n",
       "      <td>Greenland</td>\n",
       "      <td>Greenland</td>\n",
       "      <td>Construction Done</td>\n",
       "      <td>Construction Done</td>\n",
       "      <td>Construction Done</td>\n",
       "      <td>29-05-2014</td>\n",
       "      <td>13-09-2015</td>\n",
       "      <td>25-02-2017</td>\n",
       "      <td>10-10-2018</td>\n",
       "      <td>19-05-2020</td>\n",
       "      <td>Sparse Urban</td>\n",
       "      <td>Sparse Forest</td>\n",
       "      <td>POLYGON ((116.97500 38.88969, 116.97524 38.889...</td>\n",
       "    </tr>\n",
       "    <tr>\n",
       "      <th>2</th>\n",
       "      <td>2</td>\n",
       "      <td>Commercial</td>\n",
       "      <td>Land Cleared</td>\n",
       "      <td>Land Cleared</td>\n",
       "      <td>Construction Done</td>\n",
       "      <td>Construction Done</td>\n",
       "      <td>Construction Done</td>\n",
       "      <td>29-05-2014</td>\n",
       "      <td>13-09-2015</td>\n",
       "      <td>25-02-2017</td>\n",
       "      <td>10-10-2018</td>\n",
       "      <td>19-05-2020</td>\n",
       "      <td>Sparse Urban</td>\n",
       "      <td>Sparse Forest</td>\n",
       "      <td>POLYGON ((116.97519 38.88847, 116.97568 38.888...</td>\n",
       "    </tr>\n",
       "    <tr>\n",
       "      <th>3</th>\n",
       "      <td>3</td>\n",
       "      <td>Commercial</td>\n",
       "      <td>Land Cleared</td>\n",
       "      <td>Land Cleared</td>\n",
       "      <td>Construction Midway</td>\n",
       "      <td>Construction Midway</td>\n",
       "      <td>Construction Done</td>\n",
       "      <td>29-05-2014</td>\n",
       "      <td>13-09-2015</td>\n",
       "      <td>25-02-2017</td>\n",
       "      <td>10-10-2018</td>\n",
       "      <td>19-05-2020</td>\n",
       "      <td>Industrial</td>\n",
       "      <td>River</td>\n",
       "      <td>POLYGON ((116.97630 38.89017, 116.97730 38.890...</td>\n",
       "    </tr>\n",
       "    <tr>\n",
       "      <th>4</th>\n",
       "      <td>4</td>\n",
       "      <td>Commercial</td>\n",
       "      <td>Land Cleared</td>\n",
       "      <td>Land Cleared</td>\n",
       "      <td>Construction Started</td>\n",
       "      <td>Construction Midway</td>\n",
       "      <td>Construction Done</td>\n",
       "      <td>29-05-2014</td>\n",
       "      <td>13-09-2015</td>\n",
       "      <td>25-02-2017</td>\n",
       "      <td>10-10-2018</td>\n",
       "      <td>19-05-2020</td>\n",
       "      <td>Industrial</td>\n",
       "      <td>River</td>\n",
       "      <td>POLYGON ((116.97751 38.89037, 116.97854 38.890...</td>\n",
       "    </tr>\n",
       "    <tr>\n",
       "      <th>...</th>\n",
       "      <td>...</td>\n",
       "      <td>...</td>\n",
       "      <td>...</td>\n",
       "      <td>...</td>\n",
       "      <td>...</td>\n",
       "      <td>...</td>\n",
       "      <td>...</td>\n",
       "      <td>...</td>\n",
       "      <td>...</td>\n",
       "      <td>...</td>\n",
       "      <td>...</td>\n",
       "      <td>...</td>\n",
       "      <td>...</td>\n",
       "      <td>...</td>\n",
       "      <td>...</td>\n",
       "    </tr>\n",
       "    <tr>\n",
       "      <th>310001</th>\n",
       "      <td>310001</td>\n",
       "      <td>Residential</td>\n",
       "      <td>Prior Construction</td>\n",
       "      <td>Prior Construction</td>\n",
       "      <td>Prior Construction</td>\n",
       "      <td>Land Cleared</td>\n",
       "      <td>Construction Done</td>\n",
       "      <td>18-11-2014</td>\n",
       "      <td>01-03-2016</td>\n",
       "      <td>01-01-2018</td>\n",
       "      <td>01-05-2019</td>\n",
       "      <td>01-04-2020</td>\n",
       "      <td>Industrial</td>\n",
       "      <td>Coastal</td>\n",
       "      <td>POLYGON ((139.80642 35.60416, 139.80597 35.603...</td>\n",
       "    </tr>\n",
       "    <tr>\n",
       "      <th>310002</th>\n",
       "      <td>310002</td>\n",
       "      <td>Residential</td>\n",
       "      <td>Land Cleared</td>\n",
       "      <td>Land Cleared</td>\n",
       "      <td>Land Cleared</td>\n",
       "      <td>Land Cleared</td>\n",
       "      <td>Construction Done</td>\n",
       "      <td>18-11-2014</td>\n",
       "      <td>01-03-2016</td>\n",
       "      <td>01-01-2018</td>\n",
       "      <td>01-05-2019</td>\n",
       "      <td>01-04-2020</td>\n",
       "      <td>Industrial</td>\n",
       "      <td>Sparse Forest</td>\n",
       "      <td>POLYGON ((139.80857 35.60407, 139.80831 35.603...</td>\n",
       "    </tr>\n",
       "    <tr>\n",
       "      <th>310003</th>\n",
       "      <td>310003</td>\n",
       "      <td>Commercial</td>\n",
       "      <td>Materials Dumped</td>\n",
       "      <td>Land Cleared</td>\n",
       "      <td>Land Cleared</td>\n",
       "      <td>Land Cleared</td>\n",
       "      <td>Construction Done</td>\n",
       "      <td>18-11-2014</td>\n",
       "      <td>01-03-2016</td>\n",
       "      <td>01-01-2018</td>\n",
       "      <td>01-05-2019</td>\n",
       "      <td>01-04-2020</td>\n",
       "      <td>Industrial</td>\n",
       "      <td>Sparse Forest</td>\n",
       "      <td>POLYGON ((139.80927 35.60445, 139.80889 35.604...</td>\n",
       "    </tr>\n",
       "    <tr>\n",
       "      <th>310004</th>\n",
       "      <td>310004</td>\n",
       "      <td>Commercial</td>\n",
       "      <td>Land Cleared</td>\n",
       "      <td>Land Cleared</td>\n",
       "      <td>Land Cleared</td>\n",
       "      <td>Greenland</td>\n",
       "      <td>Greenland</td>\n",
       "      <td>18-11-2014</td>\n",
       "      <td>01-03-2016</td>\n",
       "      <td>01-01-2018</td>\n",
       "      <td>01-05-2019</td>\n",
       "      <td>01-04-2020</td>\n",
       "      <td>Industrial</td>\n",
       "      <td>River</td>\n",
       "      <td>POLYGON ((139.80688 35.60937, 139.80645 35.609...</td>\n",
       "    </tr>\n",
       "    <tr>\n",
       "      <th>310005</th>\n",
       "      <td>310005</td>\n",
       "      <td>Commercial</td>\n",
       "      <td>Land Cleared</td>\n",
       "      <td>Land Cleared</td>\n",
       "      <td>Land Cleared</td>\n",
       "      <td>Greenland</td>\n",
       "      <td>Greenland</td>\n",
       "      <td>18-11-2014</td>\n",
       "      <td>01-03-2016</td>\n",
       "      <td>01-01-2018</td>\n",
       "      <td>01-05-2019</td>\n",
       "      <td>01-04-2020</td>\n",
       "      <td>None</td>\n",
       "      <td>Coastal</td>\n",
       "      <td>POLYGON ((139.80765 35.60978, 139.80725 35.609...</td>\n",
       "    </tr>\n",
       "  </tbody>\n",
       "</table>\n",
       "<p>310006 rows × 15 columns</p>\n",
       "</div>"
      ],
      "text/plain": [
       "         index  change_type change_status_date1  change_status_date2  \\\n",
       "0            0   Commercial        Land Cleared  Construction Midway   \n",
       "1            1   Commercial           Greenland            Greenland   \n",
       "2            2   Commercial        Land Cleared         Land Cleared   \n",
       "3            3   Commercial        Land Cleared         Land Cleared   \n",
       "4            4   Commercial        Land Cleared         Land Cleared   \n",
       "...        ...          ...                 ...                  ...   \n",
       "310001  310001  Residential  Prior Construction   Prior Construction   \n",
       "310002  310002  Residential        Land Cleared         Land Cleared   \n",
       "310003  310003   Commercial    Materials Dumped         Land Cleared   \n",
       "310004  310004   Commercial        Land Cleared         Land Cleared   \n",
       "310005  310005   Commercial        Land Cleared         Land Cleared   \n",
       "\n",
       "         change_status_date3  change_status_date4 change_status_date5  \\\n",
       "0          Construction Done    Construction Done   Construction Done   \n",
       "1          Construction Done    Construction Done   Construction Done   \n",
       "2          Construction Done    Construction Done   Construction Done   \n",
       "3        Construction Midway  Construction Midway   Construction Done   \n",
       "4       Construction Started  Construction Midway   Construction Done   \n",
       "...                      ...                  ...                 ...   \n",
       "310001    Prior Construction         Land Cleared   Construction Done   \n",
       "310002          Land Cleared         Land Cleared   Construction Done   \n",
       "310003          Land Cleared         Land Cleared   Construction Done   \n",
       "310004          Land Cleared            Greenland           Greenland   \n",
       "310005          Land Cleared            Greenland           Greenland   \n",
       "\n",
       "             date1       date2       date3       date4       date5  \\\n",
       "0       29-05-2014  13-09-2015  25-02-2017  10-10-2018  19-05-2020   \n",
       "1       29-05-2014  13-09-2015  25-02-2017  10-10-2018  19-05-2020   \n",
       "2       29-05-2014  13-09-2015  25-02-2017  10-10-2018  19-05-2020   \n",
       "3       29-05-2014  13-09-2015  25-02-2017  10-10-2018  19-05-2020   \n",
       "4       29-05-2014  13-09-2015  25-02-2017  10-10-2018  19-05-2020   \n",
       "...            ...         ...         ...         ...         ...   \n",
       "310001  18-11-2014  01-03-2016  01-01-2018  01-05-2019  01-04-2020   \n",
       "310002  18-11-2014  01-03-2016  01-01-2018  01-05-2019  01-04-2020   \n",
       "310003  18-11-2014  01-03-2016  01-01-2018  01-05-2019  01-04-2020   \n",
       "310004  18-11-2014  01-03-2016  01-01-2018  01-05-2019  01-04-2020   \n",
       "310005  18-11-2014  01-03-2016  01-01-2018  01-05-2019  01-04-2020   \n",
       "\n",
       "         urban_types geography_types  \\\n",
       "0         Industrial           River   \n",
       "1       Sparse Urban   Sparse Forest   \n",
       "2       Sparse Urban   Sparse Forest   \n",
       "3         Industrial           River   \n",
       "4         Industrial           River   \n",
       "...              ...             ...   \n",
       "310001    Industrial         Coastal   \n",
       "310002    Industrial   Sparse Forest   \n",
       "310003    Industrial   Sparse Forest   \n",
       "310004    Industrial           River   \n",
       "310005          None         Coastal   \n",
       "\n",
       "                                                 geometry  \n",
       "0       POLYGON ((116.97563 38.89002, 116.97590 38.890...  \n",
       "1       POLYGON ((116.97500 38.88969, 116.97524 38.889...  \n",
       "2       POLYGON ((116.97519 38.88847, 116.97568 38.888...  \n",
       "3       POLYGON ((116.97630 38.89017, 116.97730 38.890...  \n",
       "4       POLYGON ((116.97751 38.89037, 116.97854 38.890...  \n",
       "...                                                   ...  \n",
       "310001  POLYGON ((139.80642 35.60416, 139.80597 35.603...  \n",
       "310002  POLYGON ((139.80857 35.60407, 139.80831 35.603...  \n",
       "310003  POLYGON ((139.80927 35.60445, 139.80889 35.604...  \n",
       "310004  POLYGON ((139.80688 35.60937, 139.80645 35.609...  \n",
       "310005  POLYGON ((139.80765 35.60978, 139.80725 35.609...  \n",
       "\n",
       "[310006 rows x 15 columns]"
      ]
     },
     "execution_count": 33,
     "metadata": {},
     "output_type": "execute_result"
    }
   ],
   "source": [
    "df_train"
   ]
  },
  {
   "cell_type": "code",
   "execution_count": 34,
   "metadata": {
    "execution": {
     "iopub.execute_input": "2022-08-06T10:44:53.615090Z",
     "iopub.status.busy": "2022-08-06T10:44:53.614655Z",
     "iopub.status.idle": "2022-08-06T10:44:53.710540Z",
     "shell.execute_reply": "2022-08-06T10:44:53.709117Z",
     "shell.execute_reply.started": "2022-08-06T10:44:53.615052Z"
    }
   },
   "outputs": [
    {
     "data": {
      "text/plain": [
       "{'Barren Land',\n",
       " 'Coastal',\n",
       " 'Dense Forest',\n",
       " 'Desert',\n",
       " 'Farms',\n",
       " 'Grass Land',\n",
       " 'Hills',\n",
       " 'Lakes',\n",
       " 'None',\n",
       " 'River',\n",
       " 'Snow',\n",
       " 'Sparse Forest'}"
      ]
     },
     "execution_count": 34,
     "metadata": {},
     "output_type": "execute_result"
    }
   ],
   "source": [
    "set(df_train['geography_types'])"
   ]
  },
  {
   "cell_type": "code",
   "execution_count": 35,
   "metadata": {
    "execution": {
     "iopub.execute_input": "2022-08-06T10:44:56.302067Z",
     "iopub.status.busy": "2022-08-06T10:44:56.301601Z",
     "iopub.status.idle": "2022-08-06T10:44:56.404296Z",
     "shell.execute_reply": "2022-08-06T10:44:56.402886Z",
     "shell.execute_reply.started": "2022-08-06T10:44:56.302025Z"
    }
   },
   "outputs": [
    {
     "data": {
      "text/plain": [
       "{'Dense Urban', 'Industrial', 'None', 'Rural', 'Sparse Urban', 'Urban Slum'}"
      ]
     },
     "execution_count": 35,
     "metadata": {},
     "output_type": "execute_result"
    }
   ],
   "source": [
    "set(df_train['urban_types'])"
   ]
  },
  {
   "cell_type": "code",
   "execution_count": 36,
   "metadata": {
    "execution": {
     "iopub.execute_input": "2022-08-06T10:44:58.892007Z",
     "iopub.status.busy": "2022-08-06T10:44:58.891579Z",
     "iopub.status.idle": "2022-08-06T10:44:58.905558Z",
     "shell.execute_reply": "2022-08-06T10:44:58.904161Z",
     "shell.execute_reply.started": "2022-08-06T10:44:58.891963Z"
    }
   },
   "outputs": [
    {
     "data": {
      "text/plain": [
       "0         POLYGON ((116.97563 38.89002, 116.97590 38.890...\n",
       "1         POLYGON ((116.97500 38.88969, 116.97524 38.889...\n",
       "2         POLYGON ((116.97519 38.88847, 116.97568 38.888...\n",
       "3         POLYGON ((116.97630 38.89017, 116.97730 38.890...\n",
       "4         POLYGON ((116.97751 38.89037, 116.97854 38.890...\n",
       "                                ...                        \n",
       "310001    POLYGON ((139.80642 35.60416, 139.80597 35.603...\n",
       "310002    POLYGON ((139.80857 35.60407, 139.80831 35.603...\n",
       "310003    POLYGON ((139.80927 35.60445, 139.80889 35.604...\n",
       "310004    POLYGON ((139.80688 35.60937, 139.80645 35.609...\n",
       "310005    POLYGON ((139.80765 35.60978, 139.80725 35.609...\n",
       "Name: geometry, Length: 310006, dtype: geometry"
      ]
     },
     "execution_count": 36,
     "metadata": {},
     "output_type": "execute_result"
    }
   ],
   "source": [
    "df_train['geometry']"
   ]
  },
  {
   "cell_type": "code",
   "execution_count": 37,
   "metadata": {
    "execution": {
     "iopub.execute_input": "2022-08-06T10:45:00.463775Z",
     "iopub.status.busy": "2022-08-06T10:45:00.463303Z",
     "iopub.status.idle": "2022-08-06T10:45:00.524909Z",
     "shell.execute_reply": "2022-08-06T10:45:00.523349Z",
     "shell.execute_reply.started": "2022-08-06T10:45:00.463741Z"
    }
   },
   "outputs": [
    {
     "data": {
      "text/html": [
       "<style>#sk-container-id-1 {color: black;background-color: white;}#sk-container-id-1 pre{padding: 0;}#sk-container-id-1 div.sk-toggleable {background-color: white;}#sk-container-id-1 label.sk-toggleable__label {cursor: pointer;display: block;width: 100%;margin-bottom: 0;padding: 0.3em;box-sizing: border-box;text-align: center;}#sk-container-id-1 label.sk-toggleable__label-arrow:before {content: \"▸\";float: left;margin-right: 0.25em;color: #696969;}#sk-container-id-1 label.sk-toggleable__label-arrow:hover:before {color: black;}#sk-container-id-1 div.sk-estimator:hover label.sk-toggleable__label-arrow:before {color: black;}#sk-container-id-1 div.sk-toggleable__content {max-height: 0;max-width: 0;overflow: hidden;text-align: left;background-color: #f0f8ff;}#sk-container-id-1 div.sk-toggleable__content pre {margin: 0.2em;color: black;border-radius: 0.25em;background-color: #f0f8ff;}#sk-container-id-1 input.sk-toggleable__control:checked~div.sk-toggleable__content {max-height: 200px;max-width: 100%;overflow: auto;}#sk-container-id-1 input.sk-toggleable__control:checked~label.sk-toggleable__label-arrow:before {content: \"▾\";}#sk-container-id-1 div.sk-estimator input.sk-toggleable__control:checked~label.sk-toggleable__label {background-color: #d4ebff;}#sk-container-id-1 div.sk-label input.sk-toggleable__control:checked~label.sk-toggleable__label {background-color: #d4ebff;}#sk-container-id-1 input.sk-hidden--visually {border: 0;clip: rect(1px 1px 1px 1px);clip: rect(1px, 1px, 1px, 1px);height: 1px;margin: -1px;overflow: hidden;padding: 0;position: absolute;width: 1px;}#sk-container-id-1 div.sk-estimator {font-family: monospace;background-color: #f0f8ff;border: 1px dotted black;border-radius: 0.25em;box-sizing: border-box;margin-bottom: 0.5em;}#sk-container-id-1 div.sk-estimator:hover {background-color: #d4ebff;}#sk-container-id-1 div.sk-parallel-item::after {content: \"\";width: 100%;border-bottom: 1px solid gray;flex-grow: 1;}#sk-container-id-1 div.sk-label:hover label.sk-toggleable__label {background-color: #d4ebff;}#sk-container-id-1 div.sk-serial::before {content: \"\";position: absolute;border-left: 1px solid gray;box-sizing: border-box;top: 0;bottom: 0;left: 50%;z-index: 0;}#sk-container-id-1 div.sk-serial {display: flex;flex-direction: column;align-items: center;background-color: white;padding-right: 0.2em;padding-left: 0.2em;position: relative;}#sk-container-id-1 div.sk-item {position: relative;z-index: 1;}#sk-container-id-1 div.sk-parallel {display: flex;align-items: stretch;justify-content: center;background-color: white;position: relative;}#sk-container-id-1 div.sk-item::before, #sk-container-id-1 div.sk-parallel-item::before {content: \"\";position: absolute;border-left: 1px solid gray;box-sizing: border-box;top: 0;bottom: 0;left: 50%;z-index: -1;}#sk-container-id-1 div.sk-parallel-item {display: flex;flex-direction: column;z-index: 1;position: relative;background-color: white;}#sk-container-id-1 div.sk-parallel-item:first-child::after {align-self: flex-end;width: 50%;}#sk-container-id-1 div.sk-parallel-item:last-child::after {align-self: flex-start;width: 50%;}#sk-container-id-1 div.sk-parallel-item:only-child::after {width: 0;}#sk-container-id-1 div.sk-dashed-wrapped {border: 1px dashed gray;margin: 0 0.4em 0.5em 0.4em;box-sizing: border-box;padding-bottom: 0.4em;background-color: white;}#sk-container-id-1 div.sk-label label {font-family: monospace;font-weight: bold;display: inline-block;line-height: 1.2em;}#sk-container-id-1 div.sk-label-container {text-align: center;}#sk-container-id-1 div.sk-container {/* jupyter's `normalize.less` sets `[hidden] { display: none; }` but bootstrap.min.css set `[hidden] { display: none !important; }` so we also need the `!important` here to be able to override the default hidden behavior on the sphinx rendered scikit-learn.org. See: https://github.com/scikit-learn/scikit-learn/issues/21755 */display: inline-block !important;position: relative;}#sk-container-id-1 div.sk-text-repr-fallback {display: none;}</style><div id=\"sk-container-id-1\" class=\"sk-top-container\"><div class=\"sk-text-repr-fallback\"><pre>OneHotEncoder(sparse=False)</pre><b>In a Jupyter environment, please rerun this cell to show the HTML representation or trust the notebook. <br />On GitHub, the HTML representation is unable to render, please try loading this page with nbviewer.org.</b></div><div class=\"sk-container\" hidden><div class=\"sk-item\"><div class=\"sk-estimator sk-toggleable\"><input class=\"sk-toggleable__control sk-hidden--visually\" id=\"sk-estimator-id-1\" type=\"checkbox\" checked><label for=\"sk-estimator-id-1\" class=\"sk-toggleable__label sk-toggleable__label-arrow\">OneHotEncoder</label><div class=\"sk-toggleable__content\"><pre>OneHotEncoder(sparse=False)</pre></div></div></div></div></div>"
      ],
      "text/plain": [
       "OneHotEncoder(sparse=False)"
      ]
     },
     "execution_count": 37,
     "metadata": {},
     "output_type": "execute_result"
    }
   ],
   "source": [
    "df_demo = df_train\n",
    "# categorical_cols = ['urban_types', 'geography_types'] \n",
    "# le = LabelEncoder()\n",
    "\n",
    "# # apply le on categorical feature columns\n",
    "# df_demo[categorical_cols] = df_demo[categorical_cols].apply(lambda col: le.fit_transform(col))    \n",
    "# from sklearn.preprocessing import OneHotEncoder\n",
    "# ohe = OneHotEncoder()\n",
    "\n",
    "# #One-hot-encode the categorical columns.\n",
    "# #Unfortunately outputs an array instead of dataframe.\n",
    "# array_hot_encoded = ohe.fit_transform(df_demo[categorical_cols])\n",
    "\n",
    "# #Convert it to df\n",
    "# data_hot_encoded = pd.DataFrame(array_hot_encoded, index=df_demo.index)\n",
    "\n",
    "# data_other_cols = df_demo.drop(columns=categorical_cols)\n",
    "\n",
    "# #Concatenate the two dataframes : \n",
    "# data_out = pd.concat([data_hot_encoded, data_other_cols], axis=1)\n",
    "\n",
    "ohe = OneHotEncoder(sparse=False)\n",
    "ohe.fit((df_demo['geography_types'].values.reshape(-1, 1)))\n"
   ]
  },
  {
   "cell_type": "code",
   "execution_count": 38,
   "metadata": {
    "execution": {
     "iopub.execute_input": "2022-08-06T10:45:01.512673Z",
     "iopub.status.busy": "2022-08-06T10:45:01.512206Z",
     "iopub.status.idle": "2022-08-06T10:45:01.522104Z",
     "shell.execute_reply": "2022-08-06T10:45:01.520327Z",
     "shell.execute_reply.started": "2022-08-06T10:45:01.512636Z"
    }
   },
   "outputs": [
    {
     "data": {
      "text/plain": [
       "Index(['index', 'change_type', 'change_status_date1', 'change_status_date2',\n",
       "       'change_status_date3', 'change_status_date4', 'change_status_date5',\n",
       "       'date1', 'date2', 'date3', 'date4', 'date5', 'urban_types',\n",
       "       'geography_types', 'geometry'],\n",
       "      dtype='object')"
      ]
     },
     "execution_count": 38,
     "metadata": {},
     "output_type": "execute_result"
    }
   ],
   "source": [
    "df_demo.columns"
   ]
  },
  {
   "cell_type": "code",
   "execution_count": 39,
   "metadata": {
    "execution": {
     "iopub.execute_input": "2022-08-06T10:45:02.501892Z",
     "iopub.status.busy": "2022-08-06T10:45:02.501482Z",
     "iopub.status.idle": "2022-08-06T10:45:02.508166Z",
     "shell.execute_reply": "2022-08-06T10:45:02.506584Z",
     "shell.execute_reply.started": "2022-08-06T10:45:02.501859Z"
    }
   },
   "outputs": [],
   "source": [
    "# TO IMPROVE EFFICIENCY, MAYBE?\n",
    "# le = preprocessing.LabelEncoder()\n",
    "# df_demo = df_demo.drop(['geometry'], axis=1)\n",
    "# df_ohe = df_demo.apply(le.fit_transform)\n",
    "# df_ohe.head(5)"
   ]
  },
  {
   "cell_type": "code",
   "execution_count": 40,
   "metadata": {
    "execution": {
     "iopub.execute_input": "2022-08-06T10:45:03.463507Z",
     "iopub.status.busy": "2022-08-06T10:45:03.462950Z",
     "iopub.status.idle": "2022-08-06T10:45:03.469523Z",
     "shell.execute_reply": "2022-08-06T10:45:03.468336Z",
     "shell.execute_reply.started": "2022-08-06T10:45:03.463470Z"
    }
   },
   "outputs": [],
   "source": [
    "# enc = preprocessing.OneHotEncoder()\n",
    "\n",
    "# enc.fit(df_ohe)\n",
    "\n",
    "# onehotlabels = enc.transform(df_ohe).toarray()\n",
    "# onehotlabels.shape"
   ]
  },
  {
   "cell_type": "code",
   "execution_count": 41,
   "metadata": {
    "execution": {
     "iopub.execute_input": "2022-08-06T10:45:04.479487Z",
     "iopub.status.busy": "2022-08-06T10:45:04.478835Z",
     "iopub.status.idle": "2022-08-06T10:45:04.485838Z",
     "shell.execute_reply": "2022-08-06T10:45:04.484364Z",
     "shell.execute_reply.started": "2022-08-06T10:45:04.479435Z"
    }
   },
   "outputs": [],
   "source": [
    "# onehotlabels"
   ]
  },
  {
   "cell_type": "code",
   "execution_count": 42,
   "metadata": {
    "execution": {
     "iopub.execute_input": "2022-08-06T10:45:05.533695Z",
     "iopub.status.busy": "2022-08-06T10:45:05.533193Z",
     "iopub.status.idle": "2022-08-06T10:45:06.948419Z",
     "shell.execute_reply": "2022-08-06T10:45:06.947209Z",
     "shell.execute_reply.started": "2022-08-06T10:45:05.533660Z"
    }
   },
   "outputs": [
    {
     "name": "stderr",
     "output_type": "stream",
     "text": [
      "/home/siddhesh/Desktop/Siddhesh/granule/jupyternb/jupyternb/lib/python3.8/site-packages/sklearn/base.py:443: UserWarning: X has feature names, but OneHotEncoder was fitted without feature names\n",
      "  warnings.warn(\n"
     ]
    }
   ],
   "source": [
    "def get_ohe(df):\n",
    "    temp_df = pd.DataFrame(data=ohe.transform(df[['geography_types']]), columns=ohe.get_feature_names_out())\n",
    "    df.drop(columns=['geography_types'], axis=1, inplace=True)\n",
    "    df = pd.concat([df.reset_index(drop=True), temp_df], axis=1)\n",
    "    df\n",
    "    return df\n",
    "\n",
    "df_demo = get_ohe(df_demo)"
   ]
  },
  {
   "cell_type": "code",
   "execution_count": 43,
   "metadata": {
    "execution": {
     "iopub.execute_input": "2022-08-06T10:45:07.047616Z",
     "iopub.status.busy": "2022-08-06T10:45:07.046273Z",
     "iopub.status.idle": "2022-08-06T10:45:07.711897Z",
     "shell.execute_reply": "2022-08-06T10:45:07.710343Z",
     "shell.execute_reply.started": "2022-08-06T10:45:07.047560Z"
    }
   },
   "outputs": [
    {
     "data": {
      "text/html": [
       "<div>\n",
       "<style scoped>\n",
       "    .dataframe tbody tr th:only-of-type {\n",
       "        vertical-align: middle;\n",
       "    }\n",
       "\n",
       "    .dataframe tbody tr th {\n",
       "        vertical-align: top;\n",
       "    }\n",
       "\n",
       "    .dataframe thead th {\n",
       "        text-align: right;\n",
       "    }\n",
       "</style>\n",
       "<table border=\"1\" class=\"dataframe\">\n",
       "  <thead>\n",
       "    <tr style=\"text-align: right;\">\n",
       "      <th></th>\n",
       "      <th>index</th>\n",
       "      <th>change_type</th>\n",
       "      <th>change_status_date1</th>\n",
       "      <th>change_status_date2</th>\n",
       "      <th>change_status_date3</th>\n",
       "      <th>change_status_date4</th>\n",
       "      <th>change_status_date5</th>\n",
       "      <th>date1</th>\n",
       "      <th>date2</th>\n",
       "      <th>date3</th>\n",
       "      <th>...</th>\n",
       "      <th>x0_Dense Forest</th>\n",
       "      <th>x0_Desert</th>\n",
       "      <th>x0_Farms</th>\n",
       "      <th>x0_Grass Land</th>\n",
       "      <th>x0_Hills</th>\n",
       "      <th>x0_Lakes</th>\n",
       "      <th>x0_None</th>\n",
       "      <th>x0_River</th>\n",
       "      <th>x0_Snow</th>\n",
       "      <th>x0_Sparse Forest</th>\n",
       "    </tr>\n",
       "  </thead>\n",
       "  <tbody>\n",
       "    <tr>\n",
       "      <th>0</th>\n",
       "      <td>0</td>\n",
       "      <td>Commercial</td>\n",
       "      <td>Land Cleared</td>\n",
       "      <td>Construction Midway</td>\n",
       "      <td>Construction Done</td>\n",
       "      <td>Construction Done</td>\n",
       "      <td>Construction Done</td>\n",
       "      <td>29-05-2014</td>\n",
       "      <td>13-09-2015</td>\n",
       "      <td>25-02-2017</td>\n",
       "      <td>...</td>\n",
       "      <td>0.0</td>\n",
       "      <td>0.0</td>\n",
       "      <td>0.0</td>\n",
       "      <td>0.0</td>\n",
       "      <td>0.0</td>\n",
       "      <td>0.0</td>\n",
       "      <td>0.0</td>\n",
       "      <td>1.0</td>\n",
       "      <td>0.0</td>\n",
       "      <td>0.0</td>\n",
       "    </tr>\n",
       "    <tr>\n",
       "      <th>1</th>\n",
       "      <td>1</td>\n",
       "      <td>Commercial</td>\n",
       "      <td>Greenland</td>\n",
       "      <td>Greenland</td>\n",
       "      <td>Construction Done</td>\n",
       "      <td>Construction Done</td>\n",
       "      <td>Construction Done</td>\n",
       "      <td>29-05-2014</td>\n",
       "      <td>13-09-2015</td>\n",
       "      <td>25-02-2017</td>\n",
       "      <td>...</td>\n",
       "      <td>0.0</td>\n",
       "      <td>0.0</td>\n",
       "      <td>0.0</td>\n",
       "      <td>0.0</td>\n",
       "      <td>0.0</td>\n",
       "      <td>0.0</td>\n",
       "      <td>0.0</td>\n",
       "      <td>0.0</td>\n",
       "      <td>0.0</td>\n",
       "      <td>1.0</td>\n",
       "    </tr>\n",
       "    <tr>\n",
       "      <th>2</th>\n",
       "      <td>2</td>\n",
       "      <td>Commercial</td>\n",
       "      <td>Land Cleared</td>\n",
       "      <td>Land Cleared</td>\n",
       "      <td>Construction Done</td>\n",
       "      <td>Construction Done</td>\n",
       "      <td>Construction Done</td>\n",
       "      <td>29-05-2014</td>\n",
       "      <td>13-09-2015</td>\n",
       "      <td>25-02-2017</td>\n",
       "      <td>...</td>\n",
       "      <td>0.0</td>\n",
       "      <td>0.0</td>\n",
       "      <td>0.0</td>\n",
       "      <td>0.0</td>\n",
       "      <td>0.0</td>\n",
       "      <td>0.0</td>\n",
       "      <td>0.0</td>\n",
       "      <td>0.0</td>\n",
       "      <td>0.0</td>\n",
       "      <td>1.0</td>\n",
       "    </tr>\n",
       "    <tr>\n",
       "      <th>3</th>\n",
       "      <td>3</td>\n",
       "      <td>Commercial</td>\n",
       "      <td>Land Cleared</td>\n",
       "      <td>Land Cleared</td>\n",
       "      <td>Construction Midway</td>\n",
       "      <td>Construction Midway</td>\n",
       "      <td>Construction Done</td>\n",
       "      <td>29-05-2014</td>\n",
       "      <td>13-09-2015</td>\n",
       "      <td>25-02-2017</td>\n",
       "      <td>...</td>\n",
       "      <td>0.0</td>\n",
       "      <td>0.0</td>\n",
       "      <td>0.0</td>\n",
       "      <td>0.0</td>\n",
       "      <td>0.0</td>\n",
       "      <td>0.0</td>\n",
       "      <td>0.0</td>\n",
       "      <td>1.0</td>\n",
       "      <td>0.0</td>\n",
       "      <td>0.0</td>\n",
       "    </tr>\n",
       "    <tr>\n",
       "      <th>4</th>\n",
       "      <td>4</td>\n",
       "      <td>Commercial</td>\n",
       "      <td>Land Cleared</td>\n",
       "      <td>Land Cleared</td>\n",
       "      <td>Construction Started</td>\n",
       "      <td>Construction Midway</td>\n",
       "      <td>Construction Done</td>\n",
       "      <td>29-05-2014</td>\n",
       "      <td>13-09-2015</td>\n",
       "      <td>25-02-2017</td>\n",
       "      <td>...</td>\n",
       "      <td>0.0</td>\n",
       "      <td>0.0</td>\n",
       "      <td>0.0</td>\n",
       "      <td>0.0</td>\n",
       "      <td>0.0</td>\n",
       "      <td>0.0</td>\n",
       "      <td>0.0</td>\n",
       "      <td>1.0</td>\n",
       "      <td>0.0</td>\n",
       "      <td>0.0</td>\n",
       "    </tr>\n",
       "    <tr>\n",
       "      <th>...</th>\n",
       "      <td>...</td>\n",
       "      <td>...</td>\n",
       "      <td>...</td>\n",
       "      <td>...</td>\n",
       "      <td>...</td>\n",
       "      <td>...</td>\n",
       "      <td>...</td>\n",
       "      <td>...</td>\n",
       "      <td>...</td>\n",
       "      <td>...</td>\n",
       "      <td>...</td>\n",
       "      <td>...</td>\n",
       "      <td>...</td>\n",
       "      <td>...</td>\n",
       "      <td>...</td>\n",
       "      <td>...</td>\n",
       "      <td>...</td>\n",
       "      <td>...</td>\n",
       "      <td>...</td>\n",
       "      <td>...</td>\n",
       "      <td>...</td>\n",
       "    </tr>\n",
       "    <tr>\n",
       "      <th>310001</th>\n",
       "      <td>310001</td>\n",
       "      <td>Residential</td>\n",
       "      <td>Prior Construction</td>\n",
       "      <td>Prior Construction</td>\n",
       "      <td>Prior Construction</td>\n",
       "      <td>Land Cleared</td>\n",
       "      <td>Construction Done</td>\n",
       "      <td>18-11-2014</td>\n",
       "      <td>01-03-2016</td>\n",
       "      <td>01-01-2018</td>\n",
       "      <td>...</td>\n",
       "      <td>0.0</td>\n",
       "      <td>0.0</td>\n",
       "      <td>0.0</td>\n",
       "      <td>0.0</td>\n",
       "      <td>0.0</td>\n",
       "      <td>0.0</td>\n",
       "      <td>0.0</td>\n",
       "      <td>0.0</td>\n",
       "      <td>0.0</td>\n",
       "      <td>0.0</td>\n",
       "    </tr>\n",
       "    <tr>\n",
       "      <th>310002</th>\n",
       "      <td>310002</td>\n",
       "      <td>Residential</td>\n",
       "      <td>Land Cleared</td>\n",
       "      <td>Land Cleared</td>\n",
       "      <td>Land Cleared</td>\n",
       "      <td>Land Cleared</td>\n",
       "      <td>Construction Done</td>\n",
       "      <td>18-11-2014</td>\n",
       "      <td>01-03-2016</td>\n",
       "      <td>01-01-2018</td>\n",
       "      <td>...</td>\n",
       "      <td>0.0</td>\n",
       "      <td>0.0</td>\n",
       "      <td>0.0</td>\n",
       "      <td>0.0</td>\n",
       "      <td>0.0</td>\n",
       "      <td>0.0</td>\n",
       "      <td>0.0</td>\n",
       "      <td>0.0</td>\n",
       "      <td>0.0</td>\n",
       "      <td>1.0</td>\n",
       "    </tr>\n",
       "    <tr>\n",
       "      <th>310003</th>\n",
       "      <td>310003</td>\n",
       "      <td>Commercial</td>\n",
       "      <td>Materials Dumped</td>\n",
       "      <td>Land Cleared</td>\n",
       "      <td>Land Cleared</td>\n",
       "      <td>Land Cleared</td>\n",
       "      <td>Construction Done</td>\n",
       "      <td>18-11-2014</td>\n",
       "      <td>01-03-2016</td>\n",
       "      <td>01-01-2018</td>\n",
       "      <td>...</td>\n",
       "      <td>0.0</td>\n",
       "      <td>0.0</td>\n",
       "      <td>0.0</td>\n",
       "      <td>0.0</td>\n",
       "      <td>0.0</td>\n",
       "      <td>0.0</td>\n",
       "      <td>0.0</td>\n",
       "      <td>0.0</td>\n",
       "      <td>0.0</td>\n",
       "      <td>1.0</td>\n",
       "    </tr>\n",
       "    <tr>\n",
       "      <th>310004</th>\n",
       "      <td>310004</td>\n",
       "      <td>Commercial</td>\n",
       "      <td>Land Cleared</td>\n",
       "      <td>Land Cleared</td>\n",
       "      <td>Land Cleared</td>\n",
       "      <td>Greenland</td>\n",
       "      <td>Greenland</td>\n",
       "      <td>18-11-2014</td>\n",
       "      <td>01-03-2016</td>\n",
       "      <td>01-01-2018</td>\n",
       "      <td>...</td>\n",
       "      <td>0.0</td>\n",
       "      <td>0.0</td>\n",
       "      <td>0.0</td>\n",
       "      <td>0.0</td>\n",
       "      <td>0.0</td>\n",
       "      <td>0.0</td>\n",
       "      <td>0.0</td>\n",
       "      <td>1.0</td>\n",
       "      <td>0.0</td>\n",
       "      <td>0.0</td>\n",
       "    </tr>\n",
       "    <tr>\n",
       "      <th>310005</th>\n",
       "      <td>310005</td>\n",
       "      <td>Commercial</td>\n",
       "      <td>Land Cleared</td>\n",
       "      <td>Land Cleared</td>\n",
       "      <td>Land Cleared</td>\n",
       "      <td>Greenland</td>\n",
       "      <td>Greenland</td>\n",
       "      <td>18-11-2014</td>\n",
       "      <td>01-03-2016</td>\n",
       "      <td>01-01-2018</td>\n",
       "      <td>...</td>\n",
       "      <td>0.0</td>\n",
       "      <td>0.0</td>\n",
       "      <td>0.0</td>\n",
       "      <td>0.0</td>\n",
       "      <td>0.0</td>\n",
       "      <td>0.0</td>\n",
       "      <td>0.0</td>\n",
       "      <td>0.0</td>\n",
       "      <td>0.0</td>\n",
       "      <td>0.0</td>\n",
       "    </tr>\n",
       "  </tbody>\n",
       "</table>\n",
       "<p>310006 rows × 26 columns</p>\n",
       "</div>"
      ],
      "text/plain": [
       "         index  change_type change_status_date1  change_status_date2  \\\n",
       "0            0   Commercial        Land Cleared  Construction Midway   \n",
       "1            1   Commercial           Greenland            Greenland   \n",
       "2            2   Commercial        Land Cleared         Land Cleared   \n",
       "3            3   Commercial        Land Cleared         Land Cleared   \n",
       "4            4   Commercial        Land Cleared         Land Cleared   \n",
       "...        ...          ...                 ...                  ...   \n",
       "310001  310001  Residential  Prior Construction   Prior Construction   \n",
       "310002  310002  Residential        Land Cleared         Land Cleared   \n",
       "310003  310003   Commercial    Materials Dumped         Land Cleared   \n",
       "310004  310004   Commercial        Land Cleared         Land Cleared   \n",
       "310005  310005   Commercial        Land Cleared         Land Cleared   \n",
       "\n",
       "         change_status_date3  change_status_date4 change_status_date5  \\\n",
       "0          Construction Done    Construction Done   Construction Done   \n",
       "1          Construction Done    Construction Done   Construction Done   \n",
       "2          Construction Done    Construction Done   Construction Done   \n",
       "3        Construction Midway  Construction Midway   Construction Done   \n",
       "4       Construction Started  Construction Midway   Construction Done   \n",
       "...                      ...                  ...                 ...   \n",
       "310001    Prior Construction         Land Cleared   Construction Done   \n",
       "310002          Land Cleared         Land Cleared   Construction Done   \n",
       "310003          Land Cleared         Land Cleared   Construction Done   \n",
       "310004          Land Cleared            Greenland           Greenland   \n",
       "310005          Land Cleared            Greenland           Greenland   \n",
       "\n",
       "             date1       date2       date3  ... x0_Dense Forest x0_Desert  \\\n",
       "0       29-05-2014  13-09-2015  25-02-2017  ...             0.0       0.0   \n",
       "1       29-05-2014  13-09-2015  25-02-2017  ...             0.0       0.0   \n",
       "2       29-05-2014  13-09-2015  25-02-2017  ...             0.0       0.0   \n",
       "3       29-05-2014  13-09-2015  25-02-2017  ...             0.0       0.0   \n",
       "4       29-05-2014  13-09-2015  25-02-2017  ...             0.0       0.0   \n",
       "...            ...         ...         ...  ...             ...       ...   \n",
       "310001  18-11-2014  01-03-2016  01-01-2018  ...             0.0       0.0   \n",
       "310002  18-11-2014  01-03-2016  01-01-2018  ...             0.0       0.0   \n",
       "310003  18-11-2014  01-03-2016  01-01-2018  ...             0.0       0.0   \n",
       "310004  18-11-2014  01-03-2016  01-01-2018  ...             0.0       0.0   \n",
       "310005  18-11-2014  01-03-2016  01-01-2018  ...             0.0       0.0   \n",
       "\n",
       "       x0_Farms x0_Grass Land  x0_Hills  x0_Lakes  x0_None  x0_River  x0_Snow  \\\n",
       "0           0.0           0.0       0.0       0.0      0.0       1.0      0.0   \n",
       "1           0.0           0.0       0.0       0.0      0.0       0.0      0.0   \n",
       "2           0.0           0.0       0.0       0.0      0.0       0.0      0.0   \n",
       "3           0.0           0.0       0.0       0.0      0.0       1.0      0.0   \n",
       "4           0.0           0.0       0.0       0.0      0.0       1.0      0.0   \n",
       "...         ...           ...       ...       ...      ...       ...      ...   \n",
       "310001      0.0           0.0       0.0       0.0      0.0       0.0      0.0   \n",
       "310002      0.0           0.0       0.0       0.0      0.0       0.0      0.0   \n",
       "310003      0.0           0.0       0.0       0.0      0.0       0.0      0.0   \n",
       "310004      0.0           0.0       0.0       0.0      0.0       1.0      0.0   \n",
       "310005      0.0           0.0       0.0       0.0      0.0       0.0      0.0   \n",
       "\n",
       "        x0_Sparse Forest  \n",
       "0                    0.0  \n",
       "1                    1.0  \n",
       "2                    1.0  \n",
       "3                    0.0  \n",
       "4                    0.0  \n",
       "...                  ...  \n",
       "310001               0.0  \n",
       "310002               1.0  \n",
       "310003               1.0  \n",
       "310004               0.0  \n",
       "310005               0.0  \n",
       "\n",
       "[310006 rows x 26 columns]"
      ]
     },
     "execution_count": 43,
     "metadata": {},
     "output_type": "execute_result"
    }
   ],
   "source": [
    "df_demo"
   ]
  },
  {
   "cell_type": "code",
   "execution_count": 44,
   "metadata": {
    "execution": {
     "iopub.execute_input": "2022-08-06T10:45:08.973499Z",
     "iopub.status.busy": "2022-08-06T10:45:08.972696Z",
     "iopub.status.idle": "2022-08-06T10:45:08.982613Z",
     "shell.execute_reply": "2022-08-06T10:45:08.981580Z",
     "shell.execute_reply.started": "2022-08-06T10:45:08.973449Z"
    }
   },
   "outputs": [
    {
     "data": {
      "text/plain": [
       "Index(['index', 'change_type', 'change_status_date1', 'change_status_date2',\n",
       "       'change_status_date3', 'change_status_date4', 'change_status_date5',\n",
       "       'date1', 'date2', 'date3', 'date4', 'date5', 'urban_types', 'geometry',\n",
       "       'x0_Barren Land', 'x0_Coastal', 'x0_Dense Forest', 'x0_Desert',\n",
       "       'x0_Farms', 'x0_Grass Land', 'x0_Hills', 'x0_Lakes', 'x0_None',\n",
       "       'x0_River', 'x0_Snow', 'x0_Sparse Forest'],\n",
       "      dtype='object')"
      ]
     },
     "execution_count": 44,
     "metadata": {},
     "output_type": "execute_result"
    }
   ],
   "source": [
    "df_demo.columns"
   ]
  },
  {
   "cell_type": "code",
   "execution_count": 45,
   "metadata": {
    "execution": {
     "iopub.execute_input": "2022-08-06T10:45:10.394893Z",
     "iopub.status.busy": "2022-08-06T10:45:10.394155Z",
     "iopub.status.idle": "2022-08-06T10:45:11.300462Z",
     "shell.execute_reply": "2022-08-06T10:45:11.298784Z",
     "shell.execute_reply.started": "2022-08-06T10:45:10.394857Z"
    }
   },
   "outputs": [
    {
     "name": "stderr",
     "output_type": "stream",
     "text": [
      "/home/siddhesh/Desktop/Siddhesh/granule/jupyternb/jupyternb/lib/python3.8/site-packages/sklearn/base.py:443: UserWarning: X has feature names, but OneHotEncoder was fitted without feature names\n",
      "  warnings.warn(\n"
     ]
    }
   ],
   "source": [
    "ohe = OneHotEncoder(sparse=False)\n",
    "ohe.fit((df_demo['urban_types'].values.reshape(-1, 1)))\n",
    "\n",
    "def get_ohe(df):\n",
    "    temp_df = pd.DataFrame(data=ohe.transform(df[['urban_types']]), columns=ohe.get_feature_names_out())\n",
    "    df.drop(columns=['urban_types'], axis=1, inplace=True)\n",
    "    df = pd.concat([df.reset_index(drop=True), temp_df], axis=1)\n",
    "    df\n",
    "    return df\n",
    "\n",
    "df_demo = get_ohe(df_demo)"
   ]
  },
  {
   "cell_type": "code",
   "execution_count": 46,
   "metadata": {
    "execution": {
     "iopub.execute_input": "2022-08-06T10:45:12.127054Z",
     "iopub.status.busy": "2022-08-06T10:45:12.126096Z",
     "iopub.status.idle": "2022-08-06T10:45:12.772197Z",
     "shell.execute_reply": "2022-08-06T10:45:12.770595Z",
     "shell.execute_reply.started": "2022-08-06T10:45:12.127010Z"
    }
   },
   "outputs": [
    {
     "data": {
      "text/html": [
       "<div>\n",
       "<style scoped>\n",
       "    .dataframe tbody tr th:only-of-type {\n",
       "        vertical-align: middle;\n",
       "    }\n",
       "\n",
       "    .dataframe tbody tr th {\n",
       "        vertical-align: top;\n",
       "    }\n",
       "\n",
       "    .dataframe thead th {\n",
       "        text-align: right;\n",
       "    }\n",
       "</style>\n",
       "<table border=\"1\" class=\"dataframe\">\n",
       "  <thead>\n",
       "    <tr style=\"text-align: right;\">\n",
       "      <th></th>\n",
       "      <th>index</th>\n",
       "      <th>change_type</th>\n",
       "      <th>change_status_date1</th>\n",
       "      <th>change_status_date2</th>\n",
       "      <th>change_status_date3</th>\n",
       "      <th>change_status_date4</th>\n",
       "      <th>change_status_date5</th>\n",
       "      <th>date1</th>\n",
       "      <th>date2</th>\n",
       "      <th>date3</th>\n",
       "      <th>...</th>\n",
       "      <th>x0_None</th>\n",
       "      <th>x0_River</th>\n",
       "      <th>x0_Snow</th>\n",
       "      <th>x0_Sparse Forest</th>\n",
       "      <th>x0_Dense Urban</th>\n",
       "      <th>x0_Industrial</th>\n",
       "      <th>x0_None</th>\n",
       "      <th>x0_Rural</th>\n",
       "      <th>x0_Sparse Urban</th>\n",
       "      <th>x0_Urban Slum</th>\n",
       "    </tr>\n",
       "  </thead>\n",
       "  <tbody>\n",
       "    <tr>\n",
       "      <th>0</th>\n",
       "      <td>0</td>\n",
       "      <td>Commercial</td>\n",
       "      <td>Land Cleared</td>\n",
       "      <td>Construction Midway</td>\n",
       "      <td>Construction Done</td>\n",
       "      <td>Construction Done</td>\n",
       "      <td>Construction Done</td>\n",
       "      <td>29-05-2014</td>\n",
       "      <td>13-09-2015</td>\n",
       "      <td>25-02-2017</td>\n",
       "      <td>...</td>\n",
       "      <td>0.0</td>\n",
       "      <td>1.0</td>\n",
       "      <td>0.0</td>\n",
       "      <td>0.0</td>\n",
       "      <td>0.0</td>\n",
       "      <td>1.0</td>\n",
       "      <td>0.0</td>\n",
       "      <td>0.0</td>\n",
       "      <td>0.0</td>\n",
       "      <td>0.0</td>\n",
       "    </tr>\n",
       "    <tr>\n",
       "      <th>1</th>\n",
       "      <td>1</td>\n",
       "      <td>Commercial</td>\n",
       "      <td>Greenland</td>\n",
       "      <td>Greenland</td>\n",
       "      <td>Construction Done</td>\n",
       "      <td>Construction Done</td>\n",
       "      <td>Construction Done</td>\n",
       "      <td>29-05-2014</td>\n",
       "      <td>13-09-2015</td>\n",
       "      <td>25-02-2017</td>\n",
       "      <td>...</td>\n",
       "      <td>0.0</td>\n",
       "      <td>0.0</td>\n",
       "      <td>0.0</td>\n",
       "      <td>1.0</td>\n",
       "      <td>0.0</td>\n",
       "      <td>0.0</td>\n",
       "      <td>0.0</td>\n",
       "      <td>0.0</td>\n",
       "      <td>1.0</td>\n",
       "      <td>0.0</td>\n",
       "    </tr>\n",
       "    <tr>\n",
       "      <th>2</th>\n",
       "      <td>2</td>\n",
       "      <td>Commercial</td>\n",
       "      <td>Land Cleared</td>\n",
       "      <td>Land Cleared</td>\n",
       "      <td>Construction Done</td>\n",
       "      <td>Construction Done</td>\n",
       "      <td>Construction Done</td>\n",
       "      <td>29-05-2014</td>\n",
       "      <td>13-09-2015</td>\n",
       "      <td>25-02-2017</td>\n",
       "      <td>...</td>\n",
       "      <td>0.0</td>\n",
       "      <td>0.0</td>\n",
       "      <td>0.0</td>\n",
       "      <td>1.0</td>\n",
       "      <td>0.0</td>\n",
       "      <td>0.0</td>\n",
       "      <td>0.0</td>\n",
       "      <td>0.0</td>\n",
       "      <td>1.0</td>\n",
       "      <td>0.0</td>\n",
       "    </tr>\n",
       "    <tr>\n",
       "      <th>3</th>\n",
       "      <td>3</td>\n",
       "      <td>Commercial</td>\n",
       "      <td>Land Cleared</td>\n",
       "      <td>Land Cleared</td>\n",
       "      <td>Construction Midway</td>\n",
       "      <td>Construction Midway</td>\n",
       "      <td>Construction Done</td>\n",
       "      <td>29-05-2014</td>\n",
       "      <td>13-09-2015</td>\n",
       "      <td>25-02-2017</td>\n",
       "      <td>...</td>\n",
       "      <td>0.0</td>\n",
       "      <td>1.0</td>\n",
       "      <td>0.0</td>\n",
       "      <td>0.0</td>\n",
       "      <td>0.0</td>\n",
       "      <td>1.0</td>\n",
       "      <td>0.0</td>\n",
       "      <td>0.0</td>\n",
       "      <td>0.0</td>\n",
       "      <td>0.0</td>\n",
       "    </tr>\n",
       "    <tr>\n",
       "      <th>4</th>\n",
       "      <td>4</td>\n",
       "      <td>Commercial</td>\n",
       "      <td>Land Cleared</td>\n",
       "      <td>Land Cleared</td>\n",
       "      <td>Construction Started</td>\n",
       "      <td>Construction Midway</td>\n",
       "      <td>Construction Done</td>\n",
       "      <td>29-05-2014</td>\n",
       "      <td>13-09-2015</td>\n",
       "      <td>25-02-2017</td>\n",
       "      <td>...</td>\n",
       "      <td>0.0</td>\n",
       "      <td>1.0</td>\n",
       "      <td>0.0</td>\n",
       "      <td>0.0</td>\n",
       "      <td>0.0</td>\n",
       "      <td>1.0</td>\n",
       "      <td>0.0</td>\n",
       "      <td>0.0</td>\n",
       "      <td>0.0</td>\n",
       "      <td>0.0</td>\n",
       "    </tr>\n",
       "    <tr>\n",
       "      <th>...</th>\n",
       "      <td>...</td>\n",
       "      <td>...</td>\n",
       "      <td>...</td>\n",
       "      <td>...</td>\n",
       "      <td>...</td>\n",
       "      <td>...</td>\n",
       "      <td>...</td>\n",
       "      <td>...</td>\n",
       "      <td>...</td>\n",
       "      <td>...</td>\n",
       "      <td>...</td>\n",
       "      <td>...</td>\n",
       "      <td>...</td>\n",
       "      <td>...</td>\n",
       "      <td>...</td>\n",
       "      <td>...</td>\n",
       "      <td>...</td>\n",
       "      <td>...</td>\n",
       "      <td>...</td>\n",
       "      <td>...</td>\n",
       "      <td>...</td>\n",
       "    </tr>\n",
       "    <tr>\n",
       "      <th>310001</th>\n",
       "      <td>310001</td>\n",
       "      <td>Residential</td>\n",
       "      <td>Prior Construction</td>\n",
       "      <td>Prior Construction</td>\n",
       "      <td>Prior Construction</td>\n",
       "      <td>Land Cleared</td>\n",
       "      <td>Construction Done</td>\n",
       "      <td>18-11-2014</td>\n",
       "      <td>01-03-2016</td>\n",
       "      <td>01-01-2018</td>\n",
       "      <td>...</td>\n",
       "      <td>0.0</td>\n",
       "      <td>0.0</td>\n",
       "      <td>0.0</td>\n",
       "      <td>0.0</td>\n",
       "      <td>0.0</td>\n",
       "      <td>1.0</td>\n",
       "      <td>0.0</td>\n",
       "      <td>0.0</td>\n",
       "      <td>0.0</td>\n",
       "      <td>0.0</td>\n",
       "    </tr>\n",
       "    <tr>\n",
       "      <th>310002</th>\n",
       "      <td>310002</td>\n",
       "      <td>Residential</td>\n",
       "      <td>Land Cleared</td>\n",
       "      <td>Land Cleared</td>\n",
       "      <td>Land Cleared</td>\n",
       "      <td>Land Cleared</td>\n",
       "      <td>Construction Done</td>\n",
       "      <td>18-11-2014</td>\n",
       "      <td>01-03-2016</td>\n",
       "      <td>01-01-2018</td>\n",
       "      <td>...</td>\n",
       "      <td>0.0</td>\n",
       "      <td>0.0</td>\n",
       "      <td>0.0</td>\n",
       "      <td>1.0</td>\n",
       "      <td>0.0</td>\n",
       "      <td>1.0</td>\n",
       "      <td>0.0</td>\n",
       "      <td>0.0</td>\n",
       "      <td>0.0</td>\n",
       "      <td>0.0</td>\n",
       "    </tr>\n",
       "    <tr>\n",
       "      <th>310003</th>\n",
       "      <td>310003</td>\n",
       "      <td>Commercial</td>\n",
       "      <td>Materials Dumped</td>\n",
       "      <td>Land Cleared</td>\n",
       "      <td>Land Cleared</td>\n",
       "      <td>Land Cleared</td>\n",
       "      <td>Construction Done</td>\n",
       "      <td>18-11-2014</td>\n",
       "      <td>01-03-2016</td>\n",
       "      <td>01-01-2018</td>\n",
       "      <td>...</td>\n",
       "      <td>0.0</td>\n",
       "      <td>0.0</td>\n",
       "      <td>0.0</td>\n",
       "      <td>1.0</td>\n",
       "      <td>0.0</td>\n",
       "      <td>1.0</td>\n",
       "      <td>0.0</td>\n",
       "      <td>0.0</td>\n",
       "      <td>0.0</td>\n",
       "      <td>0.0</td>\n",
       "    </tr>\n",
       "    <tr>\n",
       "      <th>310004</th>\n",
       "      <td>310004</td>\n",
       "      <td>Commercial</td>\n",
       "      <td>Land Cleared</td>\n",
       "      <td>Land Cleared</td>\n",
       "      <td>Land Cleared</td>\n",
       "      <td>Greenland</td>\n",
       "      <td>Greenland</td>\n",
       "      <td>18-11-2014</td>\n",
       "      <td>01-03-2016</td>\n",
       "      <td>01-01-2018</td>\n",
       "      <td>...</td>\n",
       "      <td>0.0</td>\n",
       "      <td>1.0</td>\n",
       "      <td>0.0</td>\n",
       "      <td>0.0</td>\n",
       "      <td>0.0</td>\n",
       "      <td>1.0</td>\n",
       "      <td>0.0</td>\n",
       "      <td>0.0</td>\n",
       "      <td>0.0</td>\n",
       "      <td>0.0</td>\n",
       "    </tr>\n",
       "    <tr>\n",
       "      <th>310005</th>\n",
       "      <td>310005</td>\n",
       "      <td>Commercial</td>\n",
       "      <td>Land Cleared</td>\n",
       "      <td>Land Cleared</td>\n",
       "      <td>Land Cleared</td>\n",
       "      <td>Greenland</td>\n",
       "      <td>Greenland</td>\n",
       "      <td>18-11-2014</td>\n",
       "      <td>01-03-2016</td>\n",
       "      <td>01-01-2018</td>\n",
       "      <td>...</td>\n",
       "      <td>0.0</td>\n",
       "      <td>0.0</td>\n",
       "      <td>0.0</td>\n",
       "      <td>0.0</td>\n",
       "      <td>0.0</td>\n",
       "      <td>0.0</td>\n",
       "      <td>1.0</td>\n",
       "      <td>0.0</td>\n",
       "      <td>0.0</td>\n",
       "      <td>0.0</td>\n",
       "    </tr>\n",
       "  </tbody>\n",
       "</table>\n",
       "<p>310006 rows × 31 columns</p>\n",
       "</div>"
      ],
      "text/plain": [
       "         index  change_type change_status_date1  change_status_date2  \\\n",
       "0            0   Commercial        Land Cleared  Construction Midway   \n",
       "1            1   Commercial           Greenland            Greenland   \n",
       "2            2   Commercial        Land Cleared         Land Cleared   \n",
       "3            3   Commercial        Land Cleared         Land Cleared   \n",
       "4            4   Commercial        Land Cleared         Land Cleared   \n",
       "...        ...          ...                 ...                  ...   \n",
       "310001  310001  Residential  Prior Construction   Prior Construction   \n",
       "310002  310002  Residential        Land Cleared         Land Cleared   \n",
       "310003  310003   Commercial    Materials Dumped         Land Cleared   \n",
       "310004  310004   Commercial        Land Cleared         Land Cleared   \n",
       "310005  310005   Commercial        Land Cleared         Land Cleared   \n",
       "\n",
       "         change_status_date3  change_status_date4 change_status_date5  \\\n",
       "0          Construction Done    Construction Done   Construction Done   \n",
       "1          Construction Done    Construction Done   Construction Done   \n",
       "2          Construction Done    Construction Done   Construction Done   \n",
       "3        Construction Midway  Construction Midway   Construction Done   \n",
       "4       Construction Started  Construction Midway   Construction Done   \n",
       "...                      ...                  ...                 ...   \n",
       "310001    Prior Construction         Land Cleared   Construction Done   \n",
       "310002          Land Cleared         Land Cleared   Construction Done   \n",
       "310003          Land Cleared         Land Cleared   Construction Done   \n",
       "310004          Land Cleared            Greenland           Greenland   \n",
       "310005          Land Cleared            Greenland           Greenland   \n",
       "\n",
       "             date1       date2       date3  ...  x0_None x0_River x0_Snow  \\\n",
       "0       29-05-2014  13-09-2015  25-02-2017  ...      0.0      1.0     0.0   \n",
       "1       29-05-2014  13-09-2015  25-02-2017  ...      0.0      0.0     0.0   \n",
       "2       29-05-2014  13-09-2015  25-02-2017  ...      0.0      0.0     0.0   \n",
       "3       29-05-2014  13-09-2015  25-02-2017  ...      0.0      1.0     0.0   \n",
       "4       29-05-2014  13-09-2015  25-02-2017  ...      0.0      1.0     0.0   \n",
       "...            ...         ...         ...  ...      ...      ...     ...   \n",
       "310001  18-11-2014  01-03-2016  01-01-2018  ...      0.0      0.0     0.0   \n",
       "310002  18-11-2014  01-03-2016  01-01-2018  ...      0.0      0.0     0.0   \n",
       "310003  18-11-2014  01-03-2016  01-01-2018  ...      0.0      0.0     0.0   \n",
       "310004  18-11-2014  01-03-2016  01-01-2018  ...      0.0      1.0     0.0   \n",
       "310005  18-11-2014  01-03-2016  01-01-2018  ...      0.0      0.0     0.0   \n",
       "\n",
       "        x0_Sparse Forest  x0_Dense Urban  x0_Industrial  x0_None  x0_Rural  \\\n",
       "0                    0.0             0.0            1.0      0.0       0.0   \n",
       "1                    1.0             0.0            0.0      0.0       0.0   \n",
       "2                    1.0             0.0            0.0      0.0       0.0   \n",
       "3                    0.0             0.0            1.0      0.0       0.0   \n",
       "4                    0.0             0.0            1.0      0.0       0.0   \n",
       "...                  ...             ...            ...      ...       ...   \n",
       "310001               0.0             0.0            1.0      0.0       0.0   \n",
       "310002               1.0             0.0            1.0      0.0       0.0   \n",
       "310003               1.0             0.0            1.0      0.0       0.0   \n",
       "310004               0.0             0.0            1.0      0.0       0.0   \n",
       "310005               0.0             0.0            0.0      1.0       0.0   \n",
       "\n",
       "        x0_Sparse Urban  x0_Urban Slum  \n",
       "0                   0.0            0.0  \n",
       "1                   1.0            0.0  \n",
       "2                   1.0            0.0  \n",
       "3                   0.0            0.0  \n",
       "4                   0.0            0.0  \n",
       "...                 ...            ...  \n",
       "310001              0.0            0.0  \n",
       "310002              0.0            0.0  \n",
       "310003              0.0            0.0  \n",
       "310004              0.0            0.0  \n",
       "310005              0.0            0.0  \n",
       "\n",
       "[310006 rows x 31 columns]"
      ]
     },
     "execution_count": 46,
     "metadata": {},
     "output_type": "execute_result"
    }
   ],
   "source": [
    "df_demo"
   ]
  },
  {
   "cell_type": "code",
   "execution_count": 47,
   "metadata": {
    "execution": {
     "iopub.execute_input": "2022-08-06T10:45:13.142308Z",
     "iopub.status.busy": "2022-08-06T10:45:13.141445Z",
     "iopub.status.idle": "2022-08-06T10:45:13.151842Z",
     "shell.execute_reply": "2022-08-06T10:45:13.150856Z",
     "shell.execute_reply.started": "2022-08-06T10:45:13.142236Z"
    }
   },
   "outputs": [
    {
     "data": {
      "text/plain": [
       "Index(['index', 'change_type', 'change_status_date1', 'change_status_date2',\n",
       "       'change_status_date3', 'change_status_date4', 'change_status_date5',\n",
       "       'date1', 'date2', 'date3', 'date4', 'date5', 'geometry',\n",
       "       'x0_Barren Land', 'x0_Coastal', 'x0_Dense Forest', 'x0_Desert',\n",
       "       'x0_Farms', 'x0_Grass Land', 'x0_Hills', 'x0_Lakes', 'x0_None',\n",
       "       'x0_River', 'x0_Snow', 'x0_Sparse Forest', 'x0_Dense Urban',\n",
       "       'x0_Industrial', 'x0_None', 'x0_Rural', 'x0_Sparse Urban',\n",
       "       'x0_Urban Slum'],\n",
       "      dtype='object')"
      ]
     },
     "execution_count": 47,
     "metadata": {},
     "output_type": "execute_result"
    }
   ],
   "source": [
    "df_demo.columns"
   ]
  },
  {
   "cell_type": "code",
   "execution_count": 48,
   "metadata": {
    "execution": {
     "iopub.execute_input": "2022-08-06T10:45:14.484011Z",
     "iopub.status.busy": "2022-08-06T10:45:14.483010Z",
     "iopub.status.idle": "2022-08-06T10:45:14.489187Z",
     "shell.execute_reply": "2022-08-06T10:45:14.488020Z",
     "shell.execute_reply.started": "2022-08-06T10:45:14.483909Z"
    }
   },
   "outputs": [],
   "source": [
    "# temp =[]\n",
    "# for i in range(len(df_demo)):\n",
    "#     if df_demo['change_type'][i] == 'Commercial':\n",
    "#         temp.append(3)\n",
    "#     elif df_demo['change_type'][i] == 'Demolition':\n",
    "#         temp.append(0)\n",
    "#     elif df_demo['change_type'][i] == 'Road':\n",
    "#         temp.append(1)    \n",
    "#     elif df_demo['change_type'][i] == 'Residential':\n",
    "#         temp.append(2)\n",
    "#     elif df_demo['change_type'][i] == 'Industrial':\n",
    "#         temp.append(4)\n",
    "#     else:\n",
    "#         temp.append(5)\n",
    "#     print(i)\n",
    "# df_demo['change_type'] = temp\n",
    "    \n",
    "# 'Demolition': 0\n",
    "# 'Road': 1\n",
    "# 'Residential': 2\n",
    "# 'Commercial': 3\n",
    "# 'Industrial': 4\n",
    "# 'Mega Projects': 5"
   ]
  },
  {
   "cell_type": "code",
   "execution_count": 49,
   "metadata": {
    "execution": {
     "iopub.execute_input": "2022-08-06T10:45:15.883914Z",
     "iopub.status.busy": "2022-08-06T10:45:15.882977Z",
     "iopub.status.idle": "2022-08-06T10:45:15.891331Z",
     "shell.execute_reply": "2022-08-06T10:45:15.890153Z",
     "shell.execute_reply.started": "2022-08-06T10:45:15.883878Z"
    }
   },
   "outputs": [
    {
     "data": {
      "text/plain": [
       "310006"
      ]
     },
     "execution_count": 49,
     "metadata": {},
     "output_type": "execute_result"
    }
   ],
   "source": [
    "len(df_demo)"
   ]
  },
  {
   "cell_type": "code",
   "execution_count": 50,
   "metadata": {
    "execution": {
     "iopub.execute_input": "2022-08-06T10:45:17.084341Z",
     "iopub.status.busy": "2022-08-06T10:45:17.083452Z",
     "iopub.status.idle": "2022-08-06T10:45:17.092251Z",
     "shell.execute_reply": "2022-08-06T10:45:17.090971Z",
     "shell.execute_reply.started": "2022-08-06T10:45:17.084305Z"
    }
   },
   "outputs": [
    {
     "data": {
      "text/plain": [
       "['Commercial',\n",
       " 'Demolition',\n",
       " 'Industrial',\n",
       " 'Mega Projects',\n",
       " 'Residential',\n",
       " 'Road']"
      ]
     },
     "execution_count": 50,
     "metadata": {},
     "output_type": "execute_result"
    }
   ],
   "source": [
    "le = preprocessing.LabelEncoder()\n",
    "le.fit([\"Demolition\", \"Road\", \"Residential\", \"Commercial\", \"Industrial\", \"Mega Projects\"])\n",
    "list(le.classes_)"
   ]
  },
  {
   "cell_type": "code",
   "execution_count": 51,
   "metadata": {
    "execution": {
     "iopub.execute_input": "2022-08-06T10:45:18.272009Z",
     "iopub.status.busy": "2022-08-06T10:45:18.271559Z",
     "iopub.status.idle": "2022-08-06T10:45:18.470949Z",
     "shell.execute_reply": "2022-08-06T10:45:18.469731Z",
     "shell.execute_reply.started": "2022-08-06T10:45:18.271974Z"
    }
   },
   "outputs": [],
   "source": [
    "encoded_change = le.fit_transform(df_demo['change_type'])\n",
    "# 'Demolition': 1\n",
    "# 'Road': 5\n",
    "# 'Residential': 4\n",
    "# 'Commercial': 0\n",
    "# 'Industrial': 2\n",
    "# 'Mega Projects': 3"
   ]
  },
  {
   "cell_type": "code",
   "execution_count": 52,
   "metadata": {
    "execution": {
     "iopub.execute_input": "2022-08-06T10:45:19.365207Z",
     "iopub.status.busy": "2022-08-06T10:45:19.363701Z",
     "iopub.status.idle": "2022-08-06T10:45:19.567031Z",
     "shell.execute_reply": "2022-08-06T10:45:19.565538Z",
     "shell.execute_reply.started": "2022-08-06T10:45:19.365165Z"
    }
   },
   "outputs": [],
   "source": [
    "df_demo['change_type'] = encoded_change"
   ]
  },
  {
   "cell_type": "code",
   "execution_count": 53,
   "metadata": {
    "execution": {
     "iopub.execute_input": "2022-08-06T10:45:20.895448Z",
     "iopub.status.busy": "2022-08-06T10:45:20.895004Z",
     "iopub.status.idle": "2022-08-06T10:45:21.593148Z",
     "shell.execute_reply": "2022-08-06T10:45:21.591561Z",
     "shell.execute_reply.started": "2022-08-06T10:45:20.895414Z"
    }
   },
   "outputs": [
    {
     "data": {
      "text/html": [
       "<div>\n",
       "<style scoped>\n",
       "    .dataframe tbody tr th:only-of-type {\n",
       "        vertical-align: middle;\n",
       "    }\n",
       "\n",
       "    .dataframe tbody tr th {\n",
       "        vertical-align: top;\n",
       "    }\n",
       "\n",
       "    .dataframe thead th {\n",
       "        text-align: right;\n",
       "    }\n",
       "</style>\n",
       "<table border=\"1\" class=\"dataframe\">\n",
       "  <thead>\n",
       "    <tr style=\"text-align: right;\">\n",
       "      <th></th>\n",
       "      <th>index</th>\n",
       "      <th>change_type</th>\n",
       "      <th>change_status_date1</th>\n",
       "      <th>change_status_date2</th>\n",
       "      <th>change_status_date3</th>\n",
       "      <th>change_status_date4</th>\n",
       "      <th>change_status_date5</th>\n",
       "      <th>date1</th>\n",
       "      <th>date2</th>\n",
       "      <th>date3</th>\n",
       "      <th>...</th>\n",
       "      <th>x0_None</th>\n",
       "      <th>x0_River</th>\n",
       "      <th>x0_Snow</th>\n",
       "      <th>x0_Sparse Forest</th>\n",
       "      <th>x0_Dense Urban</th>\n",
       "      <th>x0_Industrial</th>\n",
       "      <th>x0_None</th>\n",
       "      <th>x0_Rural</th>\n",
       "      <th>x0_Sparse Urban</th>\n",
       "      <th>x0_Urban Slum</th>\n",
       "    </tr>\n",
       "  </thead>\n",
       "  <tbody>\n",
       "    <tr>\n",
       "      <th>0</th>\n",
       "      <td>0</td>\n",
       "      <td>0</td>\n",
       "      <td>Land Cleared</td>\n",
       "      <td>Construction Midway</td>\n",
       "      <td>Construction Done</td>\n",
       "      <td>Construction Done</td>\n",
       "      <td>Construction Done</td>\n",
       "      <td>29-05-2014</td>\n",
       "      <td>13-09-2015</td>\n",
       "      <td>25-02-2017</td>\n",
       "      <td>...</td>\n",
       "      <td>0.0</td>\n",
       "      <td>1.0</td>\n",
       "      <td>0.0</td>\n",
       "      <td>0.0</td>\n",
       "      <td>0.0</td>\n",
       "      <td>1.0</td>\n",
       "      <td>0.0</td>\n",
       "      <td>0.0</td>\n",
       "      <td>0.0</td>\n",
       "      <td>0.0</td>\n",
       "    </tr>\n",
       "    <tr>\n",
       "      <th>1</th>\n",
       "      <td>1</td>\n",
       "      <td>0</td>\n",
       "      <td>Greenland</td>\n",
       "      <td>Greenland</td>\n",
       "      <td>Construction Done</td>\n",
       "      <td>Construction Done</td>\n",
       "      <td>Construction Done</td>\n",
       "      <td>29-05-2014</td>\n",
       "      <td>13-09-2015</td>\n",
       "      <td>25-02-2017</td>\n",
       "      <td>...</td>\n",
       "      <td>0.0</td>\n",
       "      <td>0.0</td>\n",
       "      <td>0.0</td>\n",
       "      <td>1.0</td>\n",
       "      <td>0.0</td>\n",
       "      <td>0.0</td>\n",
       "      <td>0.0</td>\n",
       "      <td>0.0</td>\n",
       "      <td>1.0</td>\n",
       "      <td>0.0</td>\n",
       "    </tr>\n",
       "    <tr>\n",
       "      <th>2</th>\n",
       "      <td>2</td>\n",
       "      <td>0</td>\n",
       "      <td>Land Cleared</td>\n",
       "      <td>Land Cleared</td>\n",
       "      <td>Construction Done</td>\n",
       "      <td>Construction Done</td>\n",
       "      <td>Construction Done</td>\n",
       "      <td>29-05-2014</td>\n",
       "      <td>13-09-2015</td>\n",
       "      <td>25-02-2017</td>\n",
       "      <td>...</td>\n",
       "      <td>0.0</td>\n",
       "      <td>0.0</td>\n",
       "      <td>0.0</td>\n",
       "      <td>1.0</td>\n",
       "      <td>0.0</td>\n",
       "      <td>0.0</td>\n",
       "      <td>0.0</td>\n",
       "      <td>0.0</td>\n",
       "      <td>1.0</td>\n",
       "      <td>0.0</td>\n",
       "    </tr>\n",
       "    <tr>\n",
       "      <th>3</th>\n",
       "      <td>3</td>\n",
       "      <td>0</td>\n",
       "      <td>Land Cleared</td>\n",
       "      <td>Land Cleared</td>\n",
       "      <td>Construction Midway</td>\n",
       "      <td>Construction Midway</td>\n",
       "      <td>Construction Done</td>\n",
       "      <td>29-05-2014</td>\n",
       "      <td>13-09-2015</td>\n",
       "      <td>25-02-2017</td>\n",
       "      <td>...</td>\n",
       "      <td>0.0</td>\n",
       "      <td>1.0</td>\n",
       "      <td>0.0</td>\n",
       "      <td>0.0</td>\n",
       "      <td>0.0</td>\n",
       "      <td>1.0</td>\n",
       "      <td>0.0</td>\n",
       "      <td>0.0</td>\n",
       "      <td>0.0</td>\n",
       "      <td>0.0</td>\n",
       "    </tr>\n",
       "    <tr>\n",
       "      <th>4</th>\n",
       "      <td>4</td>\n",
       "      <td>0</td>\n",
       "      <td>Land Cleared</td>\n",
       "      <td>Land Cleared</td>\n",
       "      <td>Construction Started</td>\n",
       "      <td>Construction Midway</td>\n",
       "      <td>Construction Done</td>\n",
       "      <td>29-05-2014</td>\n",
       "      <td>13-09-2015</td>\n",
       "      <td>25-02-2017</td>\n",
       "      <td>...</td>\n",
       "      <td>0.0</td>\n",
       "      <td>1.0</td>\n",
       "      <td>0.0</td>\n",
       "      <td>0.0</td>\n",
       "      <td>0.0</td>\n",
       "      <td>1.0</td>\n",
       "      <td>0.0</td>\n",
       "      <td>0.0</td>\n",
       "      <td>0.0</td>\n",
       "      <td>0.0</td>\n",
       "    </tr>\n",
       "    <tr>\n",
       "      <th>...</th>\n",
       "      <td>...</td>\n",
       "      <td>...</td>\n",
       "      <td>...</td>\n",
       "      <td>...</td>\n",
       "      <td>...</td>\n",
       "      <td>...</td>\n",
       "      <td>...</td>\n",
       "      <td>...</td>\n",
       "      <td>...</td>\n",
       "      <td>...</td>\n",
       "      <td>...</td>\n",
       "      <td>...</td>\n",
       "      <td>...</td>\n",
       "      <td>...</td>\n",
       "      <td>...</td>\n",
       "      <td>...</td>\n",
       "      <td>...</td>\n",
       "      <td>...</td>\n",
       "      <td>...</td>\n",
       "      <td>...</td>\n",
       "      <td>...</td>\n",
       "    </tr>\n",
       "    <tr>\n",
       "      <th>310001</th>\n",
       "      <td>310001</td>\n",
       "      <td>4</td>\n",
       "      <td>Prior Construction</td>\n",
       "      <td>Prior Construction</td>\n",
       "      <td>Prior Construction</td>\n",
       "      <td>Land Cleared</td>\n",
       "      <td>Construction Done</td>\n",
       "      <td>18-11-2014</td>\n",
       "      <td>01-03-2016</td>\n",
       "      <td>01-01-2018</td>\n",
       "      <td>...</td>\n",
       "      <td>0.0</td>\n",
       "      <td>0.0</td>\n",
       "      <td>0.0</td>\n",
       "      <td>0.0</td>\n",
       "      <td>0.0</td>\n",
       "      <td>1.0</td>\n",
       "      <td>0.0</td>\n",
       "      <td>0.0</td>\n",
       "      <td>0.0</td>\n",
       "      <td>0.0</td>\n",
       "    </tr>\n",
       "    <tr>\n",
       "      <th>310002</th>\n",
       "      <td>310002</td>\n",
       "      <td>4</td>\n",
       "      <td>Land Cleared</td>\n",
       "      <td>Land Cleared</td>\n",
       "      <td>Land Cleared</td>\n",
       "      <td>Land Cleared</td>\n",
       "      <td>Construction Done</td>\n",
       "      <td>18-11-2014</td>\n",
       "      <td>01-03-2016</td>\n",
       "      <td>01-01-2018</td>\n",
       "      <td>...</td>\n",
       "      <td>0.0</td>\n",
       "      <td>0.0</td>\n",
       "      <td>0.0</td>\n",
       "      <td>1.0</td>\n",
       "      <td>0.0</td>\n",
       "      <td>1.0</td>\n",
       "      <td>0.0</td>\n",
       "      <td>0.0</td>\n",
       "      <td>0.0</td>\n",
       "      <td>0.0</td>\n",
       "    </tr>\n",
       "    <tr>\n",
       "      <th>310003</th>\n",
       "      <td>310003</td>\n",
       "      <td>0</td>\n",
       "      <td>Materials Dumped</td>\n",
       "      <td>Land Cleared</td>\n",
       "      <td>Land Cleared</td>\n",
       "      <td>Land Cleared</td>\n",
       "      <td>Construction Done</td>\n",
       "      <td>18-11-2014</td>\n",
       "      <td>01-03-2016</td>\n",
       "      <td>01-01-2018</td>\n",
       "      <td>...</td>\n",
       "      <td>0.0</td>\n",
       "      <td>0.0</td>\n",
       "      <td>0.0</td>\n",
       "      <td>1.0</td>\n",
       "      <td>0.0</td>\n",
       "      <td>1.0</td>\n",
       "      <td>0.0</td>\n",
       "      <td>0.0</td>\n",
       "      <td>0.0</td>\n",
       "      <td>0.0</td>\n",
       "    </tr>\n",
       "    <tr>\n",
       "      <th>310004</th>\n",
       "      <td>310004</td>\n",
       "      <td>0</td>\n",
       "      <td>Land Cleared</td>\n",
       "      <td>Land Cleared</td>\n",
       "      <td>Land Cleared</td>\n",
       "      <td>Greenland</td>\n",
       "      <td>Greenland</td>\n",
       "      <td>18-11-2014</td>\n",
       "      <td>01-03-2016</td>\n",
       "      <td>01-01-2018</td>\n",
       "      <td>...</td>\n",
       "      <td>0.0</td>\n",
       "      <td>1.0</td>\n",
       "      <td>0.0</td>\n",
       "      <td>0.0</td>\n",
       "      <td>0.0</td>\n",
       "      <td>1.0</td>\n",
       "      <td>0.0</td>\n",
       "      <td>0.0</td>\n",
       "      <td>0.0</td>\n",
       "      <td>0.0</td>\n",
       "    </tr>\n",
       "    <tr>\n",
       "      <th>310005</th>\n",
       "      <td>310005</td>\n",
       "      <td>0</td>\n",
       "      <td>Land Cleared</td>\n",
       "      <td>Land Cleared</td>\n",
       "      <td>Land Cleared</td>\n",
       "      <td>Greenland</td>\n",
       "      <td>Greenland</td>\n",
       "      <td>18-11-2014</td>\n",
       "      <td>01-03-2016</td>\n",
       "      <td>01-01-2018</td>\n",
       "      <td>...</td>\n",
       "      <td>0.0</td>\n",
       "      <td>0.0</td>\n",
       "      <td>0.0</td>\n",
       "      <td>0.0</td>\n",
       "      <td>0.0</td>\n",
       "      <td>0.0</td>\n",
       "      <td>1.0</td>\n",
       "      <td>0.0</td>\n",
       "      <td>0.0</td>\n",
       "      <td>0.0</td>\n",
       "    </tr>\n",
       "  </tbody>\n",
       "</table>\n",
       "<p>310006 rows × 31 columns</p>\n",
       "</div>"
      ],
      "text/plain": [
       "         index  change_type change_status_date1  change_status_date2  \\\n",
       "0            0            0        Land Cleared  Construction Midway   \n",
       "1            1            0           Greenland            Greenland   \n",
       "2            2            0        Land Cleared         Land Cleared   \n",
       "3            3            0        Land Cleared         Land Cleared   \n",
       "4            4            0        Land Cleared         Land Cleared   \n",
       "...        ...          ...                 ...                  ...   \n",
       "310001  310001            4  Prior Construction   Prior Construction   \n",
       "310002  310002            4        Land Cleared         Land Cleared   \n",
       "310003  310003            0    Materials Dumped         Land Cleared   \n",
       "310004  310004            0        Land Cleared         Land Cleared   \n",
       "310005  310005            0        Land Cleared         Land Cleared   \n",
       "\n",
       "         change_status_date3  change_status_date4 change_status_date5  \\\n",
       "0          Construction Done    Construction Done   Construction Done   \n",
       "1          Construction Done    Construction Done   Construction Done   \n",
       "2          Construction Done    Construction Done   Construction Done   \n",
       "3        Construction Midway  Construction Midway   Construction Done   \n",
       "4       Construction Started  Construction Midway   Construction Done   \n",
       "...                      ...                  ...                 ...   \n",
       "310001    Prior Construction         Land Cleared   Construction Done   \n",
       "310002          Land Cleared         Land Cleared   Construction Done   \n",
       "310003          Land Cleared         Land Cleared   Construction Done   \n",
       "310004          Land Cleared            Greenland           Greenland   \n",
       "310005          Land Cleared            Greenland           Greenland   \n",
       "\n",
       "             date1       date2       date3  ...  x0_None x0_River x0_Snow  \\\n",
       "0       29-05-2014  13-09-2015  25-02-2017  ...      0.0      1.0     0.0   \n",
       "1       29-05-2014  13-09-2015  25-02-2017  ...      0.0      0.0     0.0   \n",
       "2       29-05-2014  13-09-2015  25-02-2017  ...      0.0      0.0     0.0   \n",
       "3       29-05-2014  13-09-2015  25-02-2017  ...      0.0      1.0     0.0   \n",
       "4       29-05-2014  13-09-2015  25-02-2017  ...      0.0      1.0     0.0   \n",
       "...            ...         ...         ...  ...      ...      ...     ...   \n",
       "310001  18-11-2014  01-03-2016  01-01-2018  ...      0.0      0.0     0.0   \n",
       "310002  18-11-2014  01-03-2016  01-01-2018  ...      0.0      0.0     0.0   \n",
       "310003  18-11-2014  01-03-2016  01-01-2018  ...      0.0      0.0     0.0   \n",
       "310004  18-11-2014  01-03-2016  01-01-2018  ...      0.0      1.0     0.0   \n",
       "310005  18-11-2014  01-03-2016  01-01-2018  ...      0.0      0.0     0.0   \n",
       "\n",
       "        x0_Sparse Forest  x0_Dense Urban  x0_Industrial  x0_None  x0_Rural  \\\n",
       "0                    0.0             0.0            1.0      0.0       0.0   \n",
       "1                    1.0             0.0            0.0      0.0       0.0   \n",
       "2                    1.0             0.0            0.0      0.0       0.0   \n",
       "3                    0.0             0.0            1.0      0.0       0.0   \n",
       "4                    0.0             0.0            1.0      0.0       0.0   \n",
       "...                  ...             ...            ...      ...       ...   \n",
       "310001               0.0             0.0            1.0      0.0       0.0   \n",
       "310002               1.0             0.0            1.0      0.0       0.0   \n",
       "310003               1.0             0.0            1.0      0.0       0.0   \n",
       "310004               0.0             0.0            1.0      0.0       0.0   \n",
       "310005               0.0             0.0            0.0      1.0       0.0   \n",
       "\n",
       "        x0_Sparse Urban  x0_Urban Slum  \n",
       "0                   0.0            0.0  \n",
       "1                   1.0            0.0  \n",
       "2                   1.0            0.0  \n",
       "3                   0.0            0.0  \n",
       "4                   0.0            0.0  \n",
       "...                 ...            ...  \n",
       "310001              0.0            0.0  \n",
       "310002              0.0            0.0  \n",
       "310003              0.0            0.0  \n",
       "310004              0.0            0.0  \n",
       "310005              0.0            0.0  \n",
       "\n",
       "[310006 rows x 31 columns]"
      ]
     },
     "execution_count": 53,
     "metadata": {},
     "output_type": "execute_result"
    }
   ],
   "source": [
    "df_demo"
   ]
  },
  {
   "cell_type": "code",
   "execution_count": 54,
   "metadata": {
    "execution": {
     "iopub.execute_input": "2022-08-06T10:56:00.949953Z",
     "iopub.status.busy": "2022-08-06T10:56:00.948812Z",
     "iopub.status.idle": "2022-08-06T10:56:00.957026Z",
     "shell.execute_reply": "2022-08-06T10:56:00.956137Z",
     "shell.execute_reply.started": "2022-08-06T10:56:00.949912Z"
    }
   },
   "outputs": [
    {
     "data": {
      "text/plain": [
       "Index(['index', 'change_type', 'change_status_date1', 'change_status_date2',\n",
       "       'change_status_date3', 'change_status_date4', 'change_status_date5',\n",
       "       'date1', 'date2', 'date3', 'date4', 'date5', 'geometry',\n",
       "       'x0_Barren Land', 'x0_Coastal', 'x0_Dense Forest', 'x0_Desert',\n",
       "       'x0_Farms', 'x0_Grass Land', 'x0_Hills', 'x0_Lakes', 'x0_None',\n",
       "       'x0_River', 'x0_Snow', 'x0_Sparse Forest', 'x0_Dense Urban',\n",
       "       'x0_Industrial', 'x0_None', 'x0_Rural', 'x0_Sparse Urban',\n",
       "       'x0_Urban Slum'],\n",
       "      dtype='object')"
      ]
     },
     "execution_count": 54,
     "metadata": {},
     "output_type": "execute_result"
    }
   ],
   "source": [
    "df_demo.columns"
   ]
  },
  {
   "cell_type": "code",
   "execution_count": 55,
   "metadata": {
    "execution": {
     "iopub.execute_input": "2022-08-06T10:45:23.025762Z",
     "iopub.status.busy": "2022-08-06T10:45:23.025318Z",
     "iopub.status.idle": "2022-08-06T10:45:23.051923Z",
     "shell.execute_reply": "2022-08-06T10:45:23.050532Z",
     "shell.execute_reply.started": "2022-08-06T10:45:23.025727Z"
    }
   },
   "outputs": [
    {
     "name": "stdout",
     "output_type": "stream",
     "text": [
      "POLYGON ((116.97563423609992 38.890015408908404, 116.9759038351296 38.89005748985981, 116.97615757539283 38.890099570811216, 116.97652232702123 38.88788330737036, 116.97623686922509 38.887855253402755, 116.9759355526625 38.887855253402755, 116.97563423609992 38.890015408908404))\n"
     ]
    },
    {
     "data": {
      "image/svg+xml": [
       "<svg xmlns=\"http://www.w3.org/2000/svg\" xmlns:xlink=\"http://www.w3.org/1999/xlink\" width=\"100.0\" height=\"100.0\" viewBox=\"116.97554446340358 38.88776548070641 0.0010676363139907608 0.002423862801144594\" preserveAspectRatio=\"xMinYMin meet\"><g transform=\"matrix(1,0,0,-1,0,77.77795482421396)\"><path fill-rule=\"evenodd\" fill=\"#66cc99\" stroke=\"#555555\" stroke-width=\"4.847725602289188e-05\" opacity=\"0.6\" d=\"M 116.97563423609992,38.890015408908404 L 116.9759038351296,38.89005748985981 L 116.97615757539283,38.890099570811216 L 116.97652232702123,38.88788330737036 L 116.97623686922509,38.887855253402755 L 116.9759355526625,38.887855253402755 L 116.97563423609992,38.890015408908404 z\" /></g></svg>"
      ],
      "text/plain": [
       "<shapely.geometry.polygon.Polygon at 0x7fd55024be80>"
      ]
     },
     "execution_count": 55,
     "metadata": {},
     "output_type": "execute_result"
    }
   ],
   "source": [
    "print(df_demo['geometry'][0]) #Why too many entries in one element\n",
    "df_demo['geometry'][0]"
   ]
  },
  {
   "cell_type": "code",
   "execution_count": 56,
   "metadata": {},
   "outputs": [],
   "source": [
    "# df_demo['geometry'][0:10].area"
   ]
  },
  {
   "cell_type": "code",
   "execution_count": 57,
   "metadata": {},
   "outputs": [],
   "source": [
    "# df_demo['area'] = df_demo['geometry'].area"
   ]
  },
  {
   "cell_type": "code",
   "execution_count": 58,
   "metadata": {
    "execution": {
     "iopub.execute_input": "2022-08-06T10:57:43.560523Z",
     "iopub.status.busy": "2022-08-06T10:57:43.559829Z",
     "iopub.status.idle": "2022-08-06T10:57:43.587343Z",
     "shell.execute_reply": "2022-08-06T10:57:43.585623Z",
     "shell.execute_reply.started": "2022-08-06T10:57:43.560488Z"
    }
   },
   "outputs": [],
   "source": [
    "# TO INCREASE ACCURACY, ADD DATES AND STATUS AFTER ONE HOT ENCODING\n",
    "X = df_demo[['x0_Barren Land', 'x0_Coastal', 'x0_Dense Forest', 'x0_Desert',\n",
    "       'x0_Farms', 'x0_Grass Land', 'x0_Hills', 'x0_Lakes',\n",
    "       'x0_River', 'x0_Snow', 'x0_Sparse Forest', 'x0_Dense Urban',\n",
    "       'x0_Industrial', 'x0_Rural', 'x0_Sparse Urban',\n",
    "       'x0_Urban Slum']]\n",
    "y = df_demo['change_type']"
   ]
  },
  {
   "cell_type": "code",
   "execution_count": 59,
   "metadata": {
    "execution": {
     "iopub.execute_input": "2022-08-06T10:57:53.523242Z",
     "iopub.status.busy": "2022-08-06T10:57:53.522146Z",
     "iopub.status.idle": "2022-08-06T10:57:53.529988Z",
     "shell.execute_reply": "2022-08-06T10:57:53.529064Z",
     "shell.execute_reply.started": "2022-08-06T10:57:53.523199Z"
    }
   },
   "outputs": [
    {
     "data": {
      "text/plain": [
       "16"
      ]
     },
     "execution_count": 59,
     "metadata": {},
     "output_type": "execute_result"
    }
   ],
   "source": [
    "len(X.columns)"
   ]
  },
  {
   "cell_type": "code",
   "execution_count": 60,
   "metadata": {
    "execution": {
     "iopub.execute_input": "2022-08-06T11:36:01.880838Z",
     "iopub.status.busy": "2022-08-06T11:36:01.880105Z",
     "iopub.status.idle": "2022-08-06T11:36:01.893692Z",
     "shell.execute_reply": "2022-08-06T11:36:01.892407Z",
     "shell.execute_reply.started": "2022-08-06T11:36:01.880801Z"
    }
   },
   "outputs": [
    {
     "data": {
      "text/plain": [
       "0         0\n",
       "1         0\n",
       "2         0\n",
       "3         0\n",
       "4         0\n",
       "         ..\n",
       "310001    4\n",
       "310002    4\n",
       "310003    0\n",
       "310004    0\n",
       "310005    0\n",
       "Name: change_type, Length: 310006, dtype: int64"
      ]
     },
     "execution_count": 60,
     "metadata": {},
     "output_type": "execute_result"
    }
   ],
   "source": [
    "y"
   ]
  },
  {
   "cell_type": "code",
   "execution_count": 61,
   "metadata": {
    "execution": {
     "iopub.execute_input": "2022-08-06T10:58:00.131498Z",
     "iopub.status.busy": "2022-08-06T10:58:00.129957Z",
     "iopub.status.idle": "2022-08-06T10:58:00.209170Z",
     "shell.execute_reply": "2022-08-06T10:58:00.207826Z",
     "shell.execute_reply.started": "2022-08-06T10:58:00.131454Z"
    }
   },
   "outputs": [],
   "source": [
    "from sklearn.model_selection import train_test_split\n",
    "X_train, X_test, y_train, y_test = train_test_split(X, y, train_size=0.67)"
   ]
  },
  {
   "cell_type": "code",
   "execution_count": 62,
   "metadata": {
    "execution": {
     "iopub.execute_input": "2022-08-06T10:58:01.238754Z",
     "iopub.status.busy": "2022-08-06T10:58:01.238276Z",
     "iopub.status.idle": "2022-08-06T10:58:01.271457Z",
     "shell.execute_reply": "2022-08-06T10:58:01.270029Z",
     "shell.execute_reply.started": "2022-08-06T10:58:01.238718Z"
    }
   },
   "outputs": [
    {
     "data": {
      "text/html": [
       "<style>#sk-container-id-2 {color: black;background-color: white;}#sk-container-id-2 pre{padding: 0;}#sk-container-id-2 div.sk-toggleable {background-color: white;}#sk-container-id-2 label.sk-toggleable__label {cursor: pointer;display: block;width: 100%;margin-bottom: 0;padding: 0.3em;box-sizing: border-box;text-align: center;}#sk-container-id-2 label.sk-toggleable__label-arrow:before {content: \"▸\";float: left;margin-right: 0.25em;color: #696969;}#sk-container-id-2 label.sk-toggleable__label-arrow:hover:before {color: black;}#sk-container-id-2 div.sk-estimator:hover label.sk-toggleable__label-arrow:before {color: black;}#sk-container-id-2 div.sk-toggleable__content {max-height: 0;max-width: 0;overflow: hidden;text-align: left;background-color: #f0f8ff;}#sk-container-id-2 div.sk-toggleable__content pre {margin: 0.2em;color: black;border-radius: 0.25em;background-color: #f0f8ff;}#sk-container-id-2 input.sk-toggleable__control:checked~div.sk-toggleable__content {max-height: 200px;max-width: 100%;overflow: auto;}#sk-container-id-2 input.sk-toggleable__control:checked~label.sk-toggleable__label-arrow:before {content: \"▾\";}#sk-container-id-2 div.sk-estimator input.sk-toggleable__control:checked~label.sk-toggleable__label {background-color: #d4ebff;}#sk-container-id-2 div.sk-label input.sk-toggleable__control:checked~label.sk-toggleable__label {background-color: #d4ebff;}#sk-container-id-2 input.sk-hidden--visually {border: 0;clip: rect(1px 1px 1px 1px);clip: rect(1px, 1px, 1px, 1px);height: 1px;margin: -1px;overflow: hidden;padding: 0;position: absolute;width: 1px;}#sk-container-id-2 div.sk-estimator {font-family: monospace;background-color: #f0f8ff;border: 1px dotted black;border-radius: 0.25em;box-sizing: border-box;margin-bottom: 0.5em;}#sk-container-id-2 div.sk-estimator:hover {background-color: #d4ebff;}#sk-container-id-2 div.sk-parallel-item::after {content: \"\";width: 100%;border-bottom: 1px solid gray;flex-grow: 1;}#sk-container-id-2 div.sk-label:hover label.sk-toggleable__label {background-color: #d4ebff;}#sk-container-id-2 div.sk-serial::before {content: \"\";position: absolute;border-left: 1px solid gray;box-sizing: border-box;top: 0;bottom: 0;left: 50%;z-index: 0;}#sk-container-id-2 div.sk-serial {display: flex;flex-direction: column;align-items: center;background-color: white;padding-right: 0.2em;padding-left: 0.2em;position: relative;}#sk-container-id-2 div.sk-item {position: relative;z-index: 1;}#sk-container-id-2 div.sk-parallel {display: flex;align-items: stretch;justify-content: center;background-color: white;position: relative;}#sk-container-id-2 div.sk-item::before, #sk-container-id-2 div.sk-parallel-item::before {content: \"\";position: absolute;border-left: 1px solid gray;box-sizing: border-box;top: 0;bottom: 0;left: 50%;z-index: -1;}#sk-container-id-2 div.sk-parallel-item {display: flex;flex-direction: column;z-index: 1;position: relative;background-color: white;}#sk-container-id-2 div.sk-parallel-item:first-child::after {align-self: flex-end;width: 50%;}#sk-container-id-2 div.sk-parallel-item:last-child::after {align-self: flex-start;width: 50%;}#sk-container-id-2 div.sk-parallel-item:only-child::after {width: 0;}#sk-container-id-2 div.sk-dashed-wrapped {border: 1px dashed gray;margin: 0 0.4em 0.5em 0.4em;box-sizing: border-box;padding-bottom: 0.4em;background-color: white;}#sk-container-id-2 div.sk-label label {font-family: monospace;font-weight: bold;display: inline-block;line-height: 1.2em;}#sk-container-id-2 div.sk-label-container {text-align: center;}#sk-container-id-2 div.sk-container {/* jupyter's `normalize.less` sets `[hidden] { display: none; }` but bootstrap.min.css set `[hidden] { display: none !important; }` so we also need the `!important` here to be able to override the default hidden behavior on the sphinx rendered scikit-learn.org. See: https://github.com/scikit-learn/scikit-learn/issues/21755 */display: inline-block !important;position: relative;}#sk-container-id-2 div.sk-text-repr-fallback {display: none;}</style><div id=\"sk-container-id-2\" class=\"sk-top-container\"><div class=\"sk-text-repr-fallback\"><pre>KNeighborsClassifier(n_neighbors=3)</pre><b>In a Jupyter environment, please rerun this cell to show the HTML representation or trust the notebook. <br />On GitHub, the HTML representation is unable to render, please try loading this page with nbviewer.org.</b></div><div class=\"sk-container\" hidden><div class=\"sk-item\"><div class=\"sk-estimator sk-toggleable\"><input class=\"sk-toggleable__control sk-hidden--visually\" id=\"sk-estimator-id-2\" type=\"checkbox\" checked><label for=\"sk-estimator-id-2\" class=\"sk-toggleable__label sk-toggleable__label-arrow\">KNeighborsClassifier</label><div class=\"sk-toggleable__content\"><pre>KNeighborsClassifier(n_neighbors=3)</pre></div></div></div></div></div>"
      ],
      "text/plain": [
       "KNeighborsClassifier(n_neighbors=3)"
      ]
     },
     "execution_count": 62,
     "metadata": {},
     "output_type": "execute_result"
    }
   ],
   "source": [
    "from sklearn.neighbors import KNeighborsClassifier\n",
    "neigh = KNeighborsClassifier(n_neighbors=3)\n",
    "neigh.fit(X_train, y_train)"
   ]
  },
  {
   "cell_type": "code",
   "execution_count": 63,
   "metadata": {
    "execution": {
     "iopub.execute_input": "2022-08-06T10:58:04.350531Z",
     "iopub.status.busy": "2022-08-06T10:58:04.349743Z",
     "iopub.status.idle": "2022-08-06T10:58:04.355656Z",
     "shell.execute_reply": "2022-08-06T10:58:04.354224Z",
     "shell.execute_reply.started": "2022-08-06T10:58:04.350487Z"
    }
   },
   "outputs": [],
   "source": [
    "# predict_single = neigh.predict() pass the dataset here"
   ]
  },
  {
   "cell_type": "code",
   "execution_count": 65,
   "metadata": {
    "execution": {
     "iopub.execute_input": "2022-08-06T10:58:05.248802Z",
     "iopub.status.busy": "2022-08-06T10:58:05.247992Z",
     "iopub.status.idle": "2022-08-06T10:58:05.285575Z",
     "shell.execute_reply": "2022-08-06T10:58:05.284185Z",
     "shell.execute_reply.started": "2022-08-06T10:58:05.248767Z"
    }
   },
   "outputs": [
    {
     "data": {
      "text/html": [
       "<div>\n",
       "<style scoped>\n",
       "    .dataframe tbody tr th:only-of-type {\n",
       "        vertical-align: middle;\n",
       "    }\n",
       "\n",
       "    .dataframe tbody tr th {\n",
       "        vertical-align: top;\n",
       "    }\n",
       "\n",
       "    .dataframe thead th {\n",
       "        text-align: right;\n",
       "    }\n",
       "</style>\n",
       "<table border=\"1\" class=\"dataframe\">\n",
       "  <thead>\n",
       "    <tr style=\"text-align: right;\">\n",
       "      <th></th>\n",
       "      <th>x0_Barren Land</th>\n",
       "      <th>x0_Coastal</th>\n",
       "      <th>x0_Dense Forest</th>\n",
       "      <th>x0_Desert</th>\n",
       "      <th>x0_Farms</th>\n",
       "      <th>x0_Grass Land</th>\n",
       "      <th>x0_Hills</th>\n",
       "      <th>x0_Lakes</th>\n",
       "      <th>x0_River</th>\n",
       "      <th>x0_Snow</th>\n",
       "      <th>x0_Sparse Forest</th>\n",
       "      <th>x0_Dense Urban</th>\n",
       "      <th>x0_Industrial</th>\n",
       "      <th>x0_Rural</th>\n",
       "      <th>x0_Sparse Urban</th>\n",
       "      <th>x0_Urban Slum</th>\n",
       "    </tr>\n",
       "  </thead>\n",
       "  <tbody>\n",
       "    <tr>\n",
       "      <th>184172</th>\n",
       "      <td>1.0</td>\n",
       "      <td>0.0</td>\n",
       "      <td>0.0</td>\n",
       "      <td>0.0</td>\n",
       "      <td>0.0</td>\n",
       "      <td>0.0</td>\n",
       "      <td>0.0</td>\n",
       "      <td>0.0</td>\n",
       "      <td>0.0</td>\n",
       "      <td>0.0</td>\n",
       "      <td>0.0</td>\n",
       "      <td>0.0</td>\n",
       "      <td>0.0</td>\n",
       "      <td>0.0</td>\n",
       "      <td>1.0</td>\n",
       "      <td>0.0</td>\n",
       "    </tr>\n",
       "    <tr>\n",
       "      <th>152859</th>\n",
       "      <td>0.0</td>\n",
       "      <td>0.0</td>\n",
       "      <td>0.0</td>\n",
       "      <td>1.0</td>\n",
       "      <td>0.0</td>\n",
       "      <td>0.0</td>\n",
       "      <td>0.0</td>\n",
       "      <td>0.0</td>\n",
       "      <td>0.0</td>\n",
       "      <td>0.0</td>\n",
       "      <td>0.0</td>\n",
       "      <td>0.0</td>\n",
       "      <td>0.0</td>\n",
       "      <td>0.0</td>\n",
       "      <td>0.0</td>\n",
       "      <td>0.0</td>\n",
       "    </tr>\n",
       "    <tr>\n",
       "      <th>9535</th>\n",
       "      <td>0.0</td>\n",
       "      <td>0.0</td>\n",
       "      <td>0.0</td>\n",
       "      <td>0.0</td>\n",
       "      <td>0.0</td>\n",
       "      <td>0.0</td>\n",
       "      <td>0.0</td>\n",
       "      <td>0.0</td>\n",
       "      <td>0.0</td>\n",
       "      <td>0.0</td>\n",
       "      <td>1.0</td>\n",
       "      <td>0.0</td>\n",
       "      <td>1.0</td>\n",
       "      <td>0.0</td>\n",
       "      <td>0.0</td>\n",
       "      <td>0.0</td>\n",
       "    </tr>\n",
       "    <tr>\n",
       "      <th>159706</th>\n",
       "      <td>1.0</td>\n",
       "      <td>0.0</td>\n",
       "      <td>0.0</td>\n",
       "      <td>0.0</td>\n",
       "      <td>0.0</td>\n",
       "      <td>0.0</td>\n",
       "      <td>0.0</td>\n",
       "      <td>0.0</td>\n",
       "      <td>0.0</td>\n",
       "      <td>0.0</td>\n",
       "      <td>0.0</td>\n",
       "      <td>0.0</td>\n",
       "      <td>1.0</td>\n",
       "      <td>0.0</td>\n",
       "      <td>0.0</td>\n",
       "      <td>0.0</td>\n",
       "    </tr>\n",
       "    <tr>\n",
       "      <th>276674</th>\n",
       "      <td>1.0</td>\n",
       "      <td>0.0</td>\n",
       "      <td>0.0</td>\n",
       "      <td>0.0</td>\n",
       "      <td>0.0</td>\n",
       "      <td>0.0</td>\n",
       "      <td>0.0</td>\n",
       "      <td>0.0</td>\n",
       "      <td>0.0</td>\n",
       "      <td>0.0</td>\n",
       "      <td>0.0</td>\n",
       "      <td>0.0</td>\n",
       "      <td>1.0</td>\n",
       "      <td>0.0</td>\n",
       "      <td>0.0</td>\n",
       "      <td>0.0</td>\n",
       "    </tr>\n",
       "    <tr>\n",
       "      <th>...</th>\n",
       "      <td>...</td>\n",
       "      <td>...</td>\n",
       "      <td>...</td>\n",
       "      <td>...</td>\n",
       "      <td>...</td>\n",
       "      <td>...</td>\n",
       "      <td>...</td>\n",
       "      <td>...</td>\n",
       "      <td>...</td>\n",
       "      <td>...</td>\n",
       "      <td>...</td>\n",
       "      <td>...</td>\n",
       "      <td>...</td>\n",
       "      <td>...</td>\n",
       "      <td>...</td>\n",
       "      <td>...</td>\n",
       "    </tr>\n",
       "    <tr>\n",
       "      <th>15651</th>\n",
       "      <td>0.0</td>\n",
       "      <td>0.0</td>\n",
       "      <td>0.0</td>\n",
       "      <td>0.0</td>\n",
       "      <td>0.0</td>\n",
       "      <td>0.0</td>\n",
       "      <td>0.0</td>\n",
       "      <td>0.0</td>\n",
       "      <td>0.0</td>\n",
       "      <td>0.0</td>\n",
       "      <td>1.0</td>\n",
       "      <td>0.0</td>\n",
       "      <td>0.0</td>\n",
       "      <td>1.0</td>\n",
       "      <td>0.0</td>\n",
       "      <td>0.0</td>\n",
       "    </tr>\n",
       "    <tr>\n",
       "      <th>246115</th>\n",
       "      <td>0.0</td>\n",
       "      <td>0.0</td>\n",
       "      <td>0.0</td>\n",
       "      <td>0.0</td>\n",
       "      <td>0.0</td>\n",
       "      <td>0.0</td>\n",
       "      <td>0.0</td>\n",
       "      <td>0.0</td>\n",
       "      <td>0.0</td>\n",
       "      <td>0.0</td>\n",
       "      <td>1.0</td>\n",
       "      <td>0.0</td>\n",
       "      <td>1.0</td>\n",
       "      <td>0.0</td>\n",
       "      <td>0.0</td>\n",
       "      <td>0.0</td>\n",
       "    </tr>\n",
       "    <tr>\n",
       "      <th>169386</th>\n",
       "      <td>1.0</td>\n",
       "      <td>0.0</td>\n",
       "      <td>0.0</td>\n",
       "      <td>0.0</td>\n",
       "      <td>0.0</td>\n",
       "      <td>0.0</td>\n",
       "      <td>0.0</td>\n",
       "      <td>0.0</td>\n",
       "      <td>0.0</td>\n",
       "      <td>0.0</td>\n",
       "      <td>0.0</td>\n",
       "      <td>0.0</td>\n",
       "      <td>1.0</td>\n",
       "      <td>0.0</td>\n",
       "      <td>0.0</td>\n",
       "      <td>0.0</td>\n",
       "    </tr>\n",
       "    <tr>\n",
       "      <th>267109</th>\n",
       "      <td>0.0</td>\n",
       "      <td>0.0</td>\n",
       "      <td>0.0</td>\n",
       "      <td>0.0</td>\n",
       "      <td>0.0</td>\n",
       "      <td>0.0</td>\n",
       "      <td>0.0</td>\n",
       "      <td>0.0</td>\n",
       "      <td>0.0</td>\n",
       "      <td>0.0</td>\n",
       "      <td>1.0</td>\n",
       "      <td>0.0</td>\n",
       "      <td>1.0</td>\n",
       "      <td>0.0</td>\n",
       "      <td>0.0</td>\n",
       "      <td>0.0</td>\n",
       "    </tr>\n",
       "    <tr>\n",
       "      <th>225830</th>\n",
       "      <td>0.0</td>\n",
       "      <td>0.0</td>\n",
       "      <td>0.0</td>\n",
       "      <td>0.0</td>\n",
       "      <td>0.0</td>\n",
       "      <td>0.0</td>\n",
       "      <td>0.0</td>\n",
       "      <td>0.0</td>\n",
       "      <td>0.0</td>\n",
       "      <td>0.0</td>\n",
       "      <td>1.0</td>\n",
       "      <td>1.0</td>\n",
       "      <td>0.0</td>\n",
       "      <td>0.0</td>\n",
       "      <td>0.0</td>\n",
       "      <td>0.0</td>\n",
       "    </tr>\n",
       "  </tbody>\n",
       "</table>\n",
       "<p>102302 rows × 16 columns</p>\n",
       "</div>"
      ],
      "text/plain": [
       "        x0_Barren Land  x0_Coastal  x0_Dense Forest  x0_Desert  x0_Farms  \\\n",
       "184172             1.0         0.0              0.0        0.0       0.0   \n",
       "152859             0.0         0.0              0.0        1.0       0.0   \n",
       "9535               0.0         0.0              0.0        0.0       0.0   \n",
       "159706             1.0         0.0              0.0        0.0       0.0   \n",
       "276674             1.0         0.0              0.0        0.0       0.0   \n",
       "...                ...         ...              ...        ...       ...   \n",
       "15651              0.0         0.0              0.0        0.0       0.0   \n",
       "246115             0.0         0.0              0.0        0.0       0.0   \n",
       "169386             1.0         0.0              0.0        0.0       0.0   \n",
       "267109             0.0         0.0              0.0        0.0       0.0   \n",
       "225830             0.0         0.0              0.0        0.0       0.0   \n",
       "\n",
       "        x0_Grass Land  x0_Hills  x0_Lakes  x0_River  x0_Snow  \\\n",
       "184172            0.0       0.0       0.0       0.0      0.0   \n",
       "152859            0.0       0.0       0.0       0.0      0.0   \n",
       "9535              0.0       0.0       0.0       0.0      0.0   \n",
       "159706            0.0       0.0       0.0       0.0      0.0   \n",
       "276674            0.0       0.0       0.0       0.0      0.0   \n",
       "...               ...       ...       ...       ...      ...   \n",
       "15651             0.0       0.0       0.0       0.0      0.0   \n",
       "246115            0.0       0.0       0.0       0.0      0.0   \n",
       "169386            0.0       0.0       0.0       0.0      0.0   \n",
       "267109            0.0       0.0       0.0       0.0      0.0   \n",
       "225830            0.0       0.0       0.0       0.0      0.0   \n",
       "\n",
       "        x0_Sparse Forest  x0_Dense Urban  x0_Industrial  x0_Rural  \\\n",
       "184172               0.0             0.0            0.0       0.0   \n",
       "152859               0.0             0.0            0.0       0.0   \n",
       "9535                 1.0             0.0            1.0       0.0   \n",
       "159706               0.0             0.0            1.0       0.0   \n",
       "276674               0.0             0.0            1.0       0.0   \n",
       "...                  ...             ...            ...       ...   \n",
       "15651                1.0             0.0            0.0       1.0   \n",
       "246115               1.0             0.0            1.0       0.0   \n",
       "169386               0.0             0.0            1.0       0.0   \n",
       "267109               1.0             0.0            1.0       0.0   \n",
       "225830               1.0             1.0            0.0       0.0   \n",
       "\n",
       "        x0_Sparse Urban  x0_Urban Slum  \n",
       "184172              1.0            0.0  \n",
       "152859              0.0            0.0  \n",
       "9535                0.0            0.0  \n",
       "159706              0.0            0.0  \n",
       "276674              0.0            0.0  \n",
       "...                 ...            ...  \n",
       "15651               0.0            0.0  \n",
       "246115              0.0            0.0  \n",
       "169386              0.0            0.0  \n",
       "267109              0.0            0.0  \n",
       "225830              0.0            0.0  \n",
       "\n",
       "[102302 rows x 16 columns]"
      ]
     },
     "execution_count": 65,
     "metadata": {},
     "output_type": "execute_result"
    }
   ],
   "source": [
    "X_test"
   ]
  },
  {
   "cell_type": "code",
   "execution_count": 66,
   "metadata": {
    "execution": {
     "iopub.execute_input": "2022-08-06T10:58:06.528900Z",
     "iopub.status.busy": "2022-08-06T10:58:06.528471Z",
     "iopub.status.idle": "2022-08-06T11:03:17.344323Z",
     "shell.execute_reply": "2022-08-06T11:03:17.342597Z",
     "shell.execute_reply.started": "2022-08-06T10:58:06.528865Z"
    }
   },
   "outputs": [],
   "source": [
    "prediction_train = neigh.predict(X_test)"
   ]
  },
  {
   "cell_type": "code",
   "execution_count": 67,
   "metadata": {
    "execution": {
     "iopub.execute_input": "2022-08-06T11:03:17.347958Z",
     "iopub.status.busy": "2022-08-06T11:03:17.347403Z",
     "iopub.status.idle": "2022-08-06T11:03:17.357952Z",
     "shell.execute_reply": "2022-08-06T11:03:17.356246Z",
     "shell.execute_reply.started": "2022-08-06T11:03:17.347908Z"
    }
   },
   "outputs": [
    {
     "data": {
      "text/plain": [
       "array([0, 4, 0, ..., 0, 0, 4])"
      ]
     },
     "execution_count": 67,
     "metadata": {},
     "output_type": "execute_result"
    }
   ],
   "source": [
    "prediction_train"
   ]
  },
  {
   "cell_type": "code",
   "execution_count": 70,
   "metadata": {
    "execution": {
     "iopub.execute_input": "2022-08-06T11:03:17.360188Z",
     "iopub.status.busy": "2022-08-06T11:03:17.359688Z",
     "iopub.status.idle": "2022-08-06T11:03:17.428613Z",
     "shell.execute_reply": "2022-08-06T11:03:17.427323Z",
     "shell.execute_reply.started": "2022-08-06T11:03:17.360142Z"
    }
   },
   "outputs": [],
   "source": [
    "from sklearn.metrics import precision_score, recall_score\n",
    "\n",
    "p = precision_score(y_test.values, prediction_train, average = \"micro\")\n",
    "r = recall_score(y_test.values, prediction_train, average=\"micro\")\n",
    "\n",
    "mean_f1_score = (2*(p*r))/(p+r)"
   ]
  },
  {
   "cell_type": "code",
   "execution_count": 71,
   "metadata": {
    "execution": {
     "iopub.execute_input": "2022-08-06T11:32:08.414807Z",
     "iopub.status.busy": "2022-08-06T11:32:08.414293Z",
     "iopub.status.idle": "2022-08-06T11:32:08.423438Z",
     "shell.execute_reply": "2022-08-06T11:32:08.422017Z",
     "shell.execute_reply.started": "2022-08-06T11:32:08.414771Z"
    }
   },
   "outputs": [
    {
     "data": {
      "text/plain": [
       "0.44824148110496376"
      ]
     },
     "execution_count": 71,
     "metadata": {},
     "output_type": "execute_result"
    }
   ],
   "source": [
    "mean_f1_score"
   ]
  },
  {
   "cell_type": "code",
   "execution_count": 72,
   "metadata": {
    "execution": {
     "iopub.execute_input": "2022-08-06T10:51:06.318887Z",
     "iopub.status.busy": "2022-08-06T10:51:06.318425Z",
     "iopub.status.idle": "2022-08-06T10:51:06.328199Z",
     "shell.execute_reply": "2022-08-06T10:51:06.326671Z",
     "shell.execute_reply.started": "2022-08-06T10:51:06.318852Z"
    }
   },
   "outputs": [
    {
     "data": {
      "text/plain": [
       "Index(['x0_Barren Land', 'x0_Coastal', 'x0_Dense Forest', 'x0_Desert',\n",
       "       'x0_Farms', 'x0_Grass Land', 'x0_Hills', 'x0_Lakes', 'x0_River',\n",
       "       'x0_Snow', 'x0_Sparse Forest', 'x0_Dense Urban', 'x0_Industrial',\n",
       "       'x0_Rural', 'x0_Sparse Urban', 'x0_Urban Slum'],\n",
       "      dtype='object')"
      ]
     },
     "execution_count": 72,
     "metadata": {},
     "output_type": "execute_result"
    }
   ],
   "source": [
    "X_test.columns"
   ]
  },
  {
   "cell_type": "code",
   "execution_count": 73,
   "metadata": {
    "execution": {
     "iopub.execute_input": "2022-08-06T11:38:58.604067Z",
     "iopub.status.busy": "2022-08-06T11:38:58.603608Z",
     "iopub.status.idle": "2022-08-06T11:38:58.612368Z",
     "shell.execute_reply": "2022-08-06T11:38:58.611156Z",
     "shell.execute_reply.started": "2022-08-06T11:38:58.604032Z"
    }
   },
   "outputs": [],
   "source": [
    "areatype = {\n",
    "    'Barren Land':0,\n",
    "    'Coastal':0,\n",
    "    'Dense Forest':0,\n",
    "    'Desert':0,\n",
    "    'Farms':0,\n",
    "    'Grass Land':0,\n",
    "    'Hills':0,\n",
    "    'Lakes':0,\n",
    "    'River':0,\n",
    "    'Snow':0,\n",
    "    'Sparse Forest':0,\n",
    "    'Dense Urban':0, \n",
    "    'Industrial':0, \n",
    "    'Rural':0, \n",
    "    'Sparse Urban':0, \n",
    "    'Urban Slum':0,\n",
    "}\n",
    "# 'Demolition': 1\n",
    "# 'Road': 5\n",
    "# 'Residential': 4\n",
    "# 'Commercial': 0\n",
    "# 'Industrial': 2\n",
    "# 'Mega Projects': 3\n",
    "classes = {\n",
    "    0:'Commercial',\n",
    "    1:'Demolition',\n",
    "    2:'Industrial',\n",
    "    3:'Mega Projects',\n",
    "    4:'Residential',\n",
    "    5:'Road',\n",
    "}\n",
    "\n",
    "# def predictvalue(urban_types, geography_types):\n",
    "    "
   ]
  },
  {
   "cell_type": "code",
   "execution_count": 74,
   "metadata": {
    "execution": {
     "iopub.execute_input": "2022-08-06T11:38:59.597721Z",
     "iopub.status.busy": "2022-08-06T11:38:59.596849Z",
     "iopub.status.idle": "2022-08-06T11:38:59.606923Z",
     "shell.execute_reply": "2022-08-06T11:38:59.605385Z",
     "shell.execute_reply.started": "2022-08-06T11:38:59.597683Z"
    }
   },
   "outputs": [
    {
     "data": {
      "text/plain": [
       "16"
      ]
     },
     "execution_count": 74,
     "metadata": {},
     "output_type": "execute_result"
    }
   ],
   "source": [
    "len(areatype.keys())"
   ]
  },
  {
   "cell_type": "code",
   "execution_count": 75,
   "metadata": {
    "execution": {
     "iopub.execute_input": "2022-08-06T11:39:46.315441Z",
     "iopub.status.busy": "2022-08-06T11:39:46.314108Z",
     "iopub.status.idle": "2022-08-06T11:39:46.324960Z",
     "shell.execute_reply": "2022-08-06T11:39:46.323942Z",
     "shell.execute_reply.started": "2022-08-06T11:39:46.315387Z"
    }
   },
   "outputs": [],
   "source": [
    "def convert_value(urban, geography):    \n",
    "    if urban in areatype.keys():\n",
    "        if geography in areatype.keys():\n",
    "            areatype[urban]=1\n",
    "            areatype[geography]=1\n",
    "\n",
    "    converted=[]\n",
    "    temp=[]\n",
    "\n",
    "    for item in areatype.values():\n",
    "        temp.append(item)\n",
    "    \n",
    "    converted.append(temp)\n",
    "    return converted\n",
    "\n",
    "def predict_value(converted):\n",
    "    prediction = neigh.predict(converted)\n",
    "    return prediction\n",
    "\n",
    "def convert_to_class(prediction):\n",
    "    return classes[prediction]\n",
    "    \n",
    "\n",
    "def merge(urban, geography):\n",
    "    urban_value = str(urban)\n",
    "    geography_value = str(geography)\n",
    "    converted_arr=[[]]\n",
    "    \n",
    "    if urban_value in areatype.keys():\n",
    "        if geography_value in areatype.keys():\n",
    "            converted_arr = convert_value(urban_value, geography_value)\n",
    "        else:\n",
    "            return \"Incorrect Input\"\n",
    "    else:\n",
    "        return \"Incorrect Input\"\n",
    "\n",
    "    prediction = predict_value(converted_arr)\n",
    "    class_output = convert_to_class(prediction[0])\n",
    "    return class_output\n",
    "    "
   ]
  },
  {
   "cell_type": "code",
   "execution_count": 76,
   "metadata": {
    "execution": {
     "iopub.execute_input": "2022-08-06T11:45:03.503105Z",
     "iopub.status.busy": "2022-08-06T11:45:03.502708Z",
     "iopub.status.idle": "2022-08-06T11:45:03.535828Z",
     "shell.execute_reply": "2022-08-06T11:45:03.534400Z",
     "shell.execute_reply.started": "2022-08-06T11:45:03.503065Z"
    }
   },
   "outputs": [],
   "source": [
    "import gradio as gr"
   ]
  },
  {
   "cell_type": "code",
   "execution_count": 77,
   "metadata": {
    "execution": {
     "iopub.execute_input": "2022-08-06T11:41:09.159536Z",
     "iopub.status.busy": "2022-08-06T11:41:09.159043Z",
     "iopub.status.idle": "2022-08-06T11:41:09.181551Z",
     "shell.execute_reply": "2022-08-06T11:41:09.179532Z",
     "shell.execute_reply.started": "2022-08-06T11:41:09.159500Z"
    }
   },
   "outputs": [
    {
     "name": "stderr",
     "output_type": "stream",
     "text": [
      "/home/siddhesh/Desktop/Siddhesh/granule/jupyternb/jupyternb/lib/python3.8/site-packages/gradio/outputs.py:21: UserWarning: Usage of gradio.outputs is deprecated, and will not be supported in the future, please import your components from gradio.components\n",
      "  warnings.warn(\n",
      "/home/siddhesh/Desktop/Siddhesh/granule/jupyternb/jupyternb/lib/python3.8/site-packages/gradio/deprecation.py:40: UserWarning: The 'type' parameter has been deprecated. Use the Number component instead.\n",
      "  warnings.warn(value)\n"
     ]
    }
   ],
   "source": [
    "outputs = gr.outputs.Textbox()\n",
    "\n",
    "app = gr.Interface(fn=merge, inputs=['text', 'text'], outputs=outputs, description=\"GEO: Barren Land, Coastal, Dense Forest, Desert, Farms, Grass Land, Hills, Lakes, River, Snow, Sparse Forest || URBAN: Dense Urban, Industrial, Rural, Sparse Urban, Urban Slum\")"
   ]
  },
  {
   "cell_type": "code",
   "execution_count": 78,
   "metadata": {
    "execution": {
     "iopub.execute_input": "2022-08-06T11:39:29.607300Z",
     "iopub.status.busy": "2022-08-06T11:39:29.606800Z",
     "iopub.status.idle": "2022-08-06T11:39:29.617135Z",
     "shell.execute_reply": "2022-08-06T11:39:29.615459Z",
     "shell.execute_reply.started": "2022-08-06T11:39:29.607231Z"
    }
   },
   "outputs": [
    {
     "name": "stdout",
     "output_type": "stream",
     "text": [
      "Running on local URL:  http://127.0.0.1:7860/\n",
      "Running on public URL: https://51381.gradio.app\n",
      "\n",
      "This share link expires in 72 hours. For free permanent hosting, check out Spaces: https://huggingface.co/spaces\n"
     ]
    },
    {
     "data": {
      "text/html": [
       "<div><iframe src=\"https://51381.gradio.app\" width=\"900\" height=\"500\" allow=\"autoplay; camera; microphone;\" frameborder=\"0\" allowfullscreen></iframe></div>"
      ],
      "text/plain": [
       "<IPython.core.display.HTML object>"
      ]
     },
     "metadata": {},
     "output_type": "display_data"
    },
    {
     "data": {
      "text/plain": [
       "(<gradio.routes.App at 0x7fd4de470070>,\n",
       " 'http://127.0.0.1:7860/',\n",
       " 'https://51381.gradio.app')"
      ]
     },
     "execution_count": 78,
     "metadata": {},
     "output_type": "execute_result"
    },
    {
     "name": "stderr",
     "output_type": "stream",
     "text": [
      "/home/siddhesh/Desktop/Siddhesh/granule/jupyternb/jupyternb/lib/python3.8/site-packages/sklearn/base.py:450: UserWarning: X does not have valid feature names, but KNeighborsClassifier was fitted with feature names\n",
      "  warnings.warn(\n",
      "/home/siddhesh/Desktop/Siddhesh/granule/jupyternb/jupyternb/lib/python3.8/site-packages/sklearn/base.py:450: UserWarning: X does not have valid feature names, but KNeighborsClassifier was fitted with feature names\n",
      "  warnings.warn(\n",
      "/home/siddhesh/Desktop/Siddhesh/granule/jupyternb/jupyternb/lib/python3.8/site-packages/sklearn/base.py:450: UserWarning: X does not have valid feature names, but KNeighborsClassifier was fitted with feature names\n",
      "  warnings.warn(\n"
     ]
    }
   ],
   "source": [
    "app.launch(share=True)"
   ]
  },
  {
   "cell_type": "code",
   "execution_count": 197,
   "metadata": {
    "execution": {
     "iopub.execute_input": "2022-08-06T09:46:24.313602Z",
     "iopub.status.busy": "2022-08-06T09:46:24.311570Z",
     "iopub.status.idle": "2022-08-06T09:46:24.454410Z",
     "shell.execute_reply": "2022-08-06T09:46:24.453351Z",
     "shell.execute_reply.started": "2022-08-06T09:46:24.313534Z"
    }
   },
   "outputs": [],
   "source": [
    "#dumb = df_demo['geometry'].to_crs()\n",
    "# df_demo['area'] = df_demo['geometry'].area"
   ]
  },
  {
   "cell_type": "code",
   "execution_count": 198,
   "metadata": {
    "execution": {
     "iopub.execute_input": "2022-08-06T09:46:24.457071Z",
     "iopub.status.busy": "2022-08-06T09:46:24.456554Z",
     "iopub.status.idle": "2022-08-06T09:46:24.560331Z",
     "shell.execute_reply": "2022-08-06T09:46:24.558504Z",
     "shell.execute_reply.started": "2022-08-06T09:46:24.457019Z"
    }
   },
   "outputs": [],
   "source": [
    "# import scipy\n",
    "# scipy.stats.pearsonr(df_demo['change_type'], df_demo['area'])"
   ]
  },
  {
   "cell_type": "code",
   "execution_count": 199,
   "metadata": {},
   "outputs": [],
   "source": [
    "# df_test"
   ]
  }
 ],
 "metadata": {
  "kernelspec": {
   "display_name": "Python 3 (ipykernel)",
   "language": "python",
   "name": "python3"
  },
  "language_info": {
   "codemirror_mode": {
    "name": "ipython",
    "version": 3
   },
   "file_extension": ".py",
   "mimetype": "text/x-python",
   "name": "python",
   "nbconvert_exporter": "python",
   "pygments_lexer": "ipython3",
   "version": "3.8.10"
  }
 },
 "nbformat": 4,
 "nbformat_minor": 4
}
